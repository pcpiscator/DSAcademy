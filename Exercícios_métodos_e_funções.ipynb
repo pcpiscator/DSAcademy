{
  "nbformat": 4,
  "nbformat_minor": 0,
  "metadata": {
    "colab": {
      "name": "Exercícios-métodos e funções.ipynb",
      "provenance": [],
      "authorship_tag": "ABX9TyNcfRjb04G5RxrMQd+P/pKC",
      "include_colab_link": true
    },
    "kernelspec": {
      "name": "python3",
      "display_name": "Python 3"
    }
  },
  "cells": [
    {
      "cell_type": "markdown",
      "metadata": {
        "id": "view-in-github",
        "colab_type": "text"
      },
      "source": [
        "<a href=\"https://colab.research.google.com/github/pcpiscator/DSAcademy/blob/main/Exerc%C3%ADcios_m%C3%A9todos_e_fun%C3%A7%C3%B5es.ipynb\" target=\"_parent\"><img src=\"https://colab.research.google.com/assets/colab-badge.svg\" alt=\"Open In Colab\"/></a>"
      ]
    },
    {
      "cell_type": "markdown",
      "metadata": {
        "id": "-NkI5ktUNbpG"
      },
      "source": [
        "Exercício 1 - Crie uma função que imprima a sequência de números pares entre 1 e 20 (a função não recebe parâmetro) e depois faça uma chamada à função para listar os números."
      ]
    },
    {
      "cell_type": "code",
      "metadata": {
        "id": "4e4iHhprMwGo"
      },
      "source": [
        "def seq(): \r\n",
        "   for i in range(0,20,2):\r\n",
        "       print(seq)"
      ],
      "execution_count": 12,
      "outputs": []
    },
    {
      "cell_type": "code",
      "metadata": {
        "id": "spFeV0Z_Vpnx"
      },
      "source": [
        "seq()"
      ],
      "execution_count": null,
      "outputs": []
    },
    {
      "cell_type": "code",
      "metadata": {
        "id": "MOdf5zcXhy3M"
      },
      "source": [
        "def seq():\r\n",
        "    for i in range(0, 21, 2):\r\n",
        "        print(\"Número \" + str(i))"
      ],
      "execution_count": 26,
      "outputs": []
    },
    {
      "cell_type": "code",
      "metadata": {
        "id": "pUjD5eYDiCWq"
      },
      "source": [
        "seq()"
      ],
      "execution_count": null,
      "outputs": []
    },
    {
      "cell_type": "markdown",
      "metadata": {
        "id": "5SHZrHb7QQCG"
      },
      "source": [
        "Exercício 2 - Crie uma função que receba uma string como argumento e retorne a mesma string em letras maiúsculas.Faça uma chamada à função, passando como parâmetro uma string"
      ]
    },
    {
      "cell_type": "code",
      "metadata": {
        "id": "G8ZHt-adSeus"
      },
      "source": [
        "caixa_alta = \"Este Texto Deveria Estar Todo Em caixa alta\""
      ],
      "execution_count": 2,
      "outputs": []
    },
    {
      "cell_type": "code",
      "metadata": {
        "id": "3fli3HX6QO5h"
      },
      "source": [
        "def uppercase(text):\r\n",
        "    return text.upper()"
      ],
      "execution_count": 3,
      "outputs": []
    },
    {
      "cell_type": "code",
      "metadata": {
        "id": "7V4FPcupSmDF"
      },
      "source": [
        "uppercased_string = uppercase(caixa_alta)"
      ],
      "execution_count": 4,
      "outputs": []
    },
    {
      "cell_type": "code",
      "metadata": {
        "colab": {
          "base_uri": "https://localhost:8080/",
          "height": 35
        },
        "id": "tmTkrOtcS-BQ",
        "outputId": "547b4171-6e41-4891-b102-069908c1a4f3"
      },
      "source": [
        "uppercased_string"
      ],
      "execution_count": 5,
      "outputs": [
        {
          "output_type": "execute_result",
          "data": {
            "application/vnd.google.colaboratory.intrinsic+json": {
              "type": "string"
            },
            "text/plain": [
              "'ESTE TEXTO DEVERIA ESTAR TODO EM CAIXA ALTA'"
            ]
          },
          "metadata": {
            "tags": []
          },
          "execution_count": 5
        }
      ]
    }
  ]
}