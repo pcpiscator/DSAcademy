{
  "nbformat": 4,
  "nbformat_minor": 0,
  "metadata": {
    "colab": {
      "name": "Exercícios-métodos e funções.ipynb",
      "provenance": [],
      "authorship_tag": "ABX9TyP9fV9VZEb83ovFHMRwb2Ku",
      "include_colab_link": true
    },
    "kernelspec": {
      "name": "python3",
      "display_name": "Python 3"
    }
  },
  "cells": [
    {
      "cell_type": "markdown",
      "metadata": {
        "id": "view-in-github",
        "colab_type": "text"
      },
      "source": [
        "<a href=\"https://colab.research.google.com/github/pcpiscator/DSAcademy/blob/main/Exerc%C3%ADcios_m%C3%A9todos_e_fun%C3%A7%C3%B5es.ipynb\" target=\"_parent\"><img src=\"https://colab.research.google.com/assets/colab-badge.svg\" alt=\"Open In Colab\"/></a>"
      ]
    },
    {
      "cell_type": "markdown",
      "metadata": {
        "id": "-NkI5ktUNbpG"
      },
      "source": [
        "Exercício 1 - Crie uma função que imprima a sequência de números pares entre 1 e 20 (a função não recebe parâmetro) e depois faça uma chamada à função para listar os números."
      ]
    },
    {
      "cell_type": "code",
      "metadata": {
        "id": "MOdf5zcXhy3M"
      },
      "source": [
        "def seq():\r\n",
        "    for i in range(0, 21, 2):\r\n",
        "        print(\"Número \" + str(i))"
      ],
      "execution_count": null,
      "outputs": []
    },
    {
      "cell_type": "code",
      "metadata": {
        "colab": {
          "base_uri": "https://localhost:8080/"
        },
        "id": "pUjD5eYDiCWq",
        "outputId": "f3a06659-e265-475f-f48b-8d6e24f8f504"
      },
      "source": [
        "seq()"
      ],
      "execution_count": null,
      "outputs": [
        {
          "output_type": "stream",
          "text": [
            "Número 0\n",
            "Número 2\n",
            "Número 4\n",
            "Número 6\n",
            "Número 8\n",
            "Número 10\n",
            "Número 12\n",
            "Número 14\n",
            "Número 16\n",
            "Número 18\n",
            "Número 20\n"
          ],
          "name": "stdout"
        }
      ]
    },
    {
      "cell_type": "markdown",
      "metadata": {
        "id": "5SHZrHb7QQCG"
      },
      "source": [
        "Exercício 2 - Crie uma função que receba uma string como argumento e retorne a mesma string em letras maiúsculas.Faça uma chamada à função, passando como parâmetro uma string"
      ]
    },
    {
      "cell_type": "code",
      "metadata": {
        "id": "G8ZHt-adSeus"
      },
      "source": [
        "caixa_alta = \"Este Texto Deveria Estar Todo Em caixa alta\""
      ],
      "execution_count": null,
      "outputs": []
    },
    {
      "cell_type": "code",
      "metadata": {
        "id": "3fli3HX6QO5h"
      },
      "source": [
        "def uppercase(text):\r\n",
        "    return text.upper()"
      ],
      "execution_count": null,
      "outputs": []
    },
    {
      "cell_type": "code",
      "metadata": {
        "id": "7V4FPcupSmDF"
      },
      "source": [
        "uppercased_string = uppercase(caixa_alta)"
      ],
      "execution_count": null,
      "outputs": []
    },
    {
      "cell_type": "code",
      "metadata": {
        "colab": {
          "base_uri": "https://localhost:8080/",
          "height": 35
        },
        "id": "tmTkrOtcS-BQ",
        "outputId": "547b4171-6e41-4891-b102-069908c1a4f3"
      },
      "source": [
        "uppercased_string"
      ],
      "execution_count": null,
      "outputs": [
        {
          "output_type": "execute_result",
          "data": {
            "application/vnd.google.colaboratory.intrinsic+json": {
              "type": "string"
            },
            "text/plain": [
              "'ESTE TEXTO DEVERIA ESTAR TODO EM CAIXA ALTA'"
            ]
          },
          "metadata": {
            "tags": []
          },
          "execution_count": 5
        }
      ]
    },
    {
      "cell_type": "markdown",
      "metadata": {
        "id": "5UuGNvKdHpf7"
      },
      "source": [
        "Exercício 3 - Crie uma função que receba como parâmetro uma lista de 4 elementos, adicione 2 elementos a lista e imprima a lista"
      ]
    },
    {
      "cell_type": "code",
      "metadata": {
        "id": "hUdxESR9Hy74",
        "colab": {
          "base_uri": "https://localhost:8080/"
        },
        "outputId": "8045b1a3-cc70-4f97-e826-97ce4e7c72b6"
      },
      "source": [
        "def novaLista(lista):\r\n",
        "    print(lista.append(5))\r\n",
        "    print(lista.append(6))\r\n",
        "   \r\n",
        "lista1 = [1, 2, 3, 4]   \r\n",
        "novaLista(lista1)\r\n",
        "print(lista1)\r\n",
        " "
      ],
      "execution_count": 6,
      "outputs": [
        {
          "output_type": "stream",
          "text": [
            "None\n",
            "None\n",
            "[1, 2, 3, 4, 5, 6]\n"
          ],
          "name": "stdout"
        }
      ]
    },
    {
      "cell_type": "code",
      "metadata": {
        "colab": {
          "base_uri": "https://localhost:8080/"
        },
        "id": "G46xYfcB92wx",
        "outputId": "67c00b03-49da-42ec-953a-b5b3abeea4b9"
      },
      "source": [
        "# Exercício 4 - Crie uma função que receba um argumento formal e uma possível lista de elementos. Faça duas chamadas \r\n",
        "# à função, a primeira com apenas 1 elemento a segunda com 4 elementos\r\n",
        "def printNum( arg1, *lista ):\r\n",
        "    print (arg1)\r\n",
        "    for i in lista:\r\n",
        "        print (i)\r\n",
        "    return;\r\n",
        "\r\n",
        "# Chamada à função\r\n",
        "printNum( 100 )\r\n",
        "printNum( 'A', 'B', 'C','D' )"
      ],
      "execution_count": 10,
      "outputs": [
        {
          "output_type": "stream",
          "text": [
            "100\n",
            "A\n",
            "B\n",
            "C\n",
            "D\n"
          ],
          "name": "stdout"
        }
      ]
    },
    {
      "cell_type": "code",
      "metadata": {
        "colab": {
          "base_uri": "https://localhost:8080/"
        },
        "id": "zhsnHwAM-d87",
        "outputId": "47a04c92-5768-4b22-99dc-45421dbf3daf"
      },
      "source": [
        "# Exercício 5 - Crie uma função anônima e atribua seu retorno a uma variável chamada soma. A expressão vai receber 2 \r\n",
        "# números como parâmetro e retornar a soma deles\r\n",
        "soma = lambda arg1, arg2: arg1 + arg2\r\n",
        "print (\"A soma é : \", soma( 452, 298 ))"
      ],
      "execution_count": 11,
      "outputs": [
        {
          "output_type": "stream",
          "text": [
            "A soma é :  750\n"
          ],
          "name": "stdout"
        }
      ]
    },
    {
      "cell_type": "code",
      "metadata": {
        "colab": {
          "base_uri": "https://localhost:8080/"
        },
        "id": "HU7JM7Rm-oLc",
        "outputId": "3f9f48a9-009e-4993-a36c-d011ee0fb376"
      },
      "source": [
        "# Colocado por mim\r\n",
        "# Exercício 5 - Crie uma função anônima e atribua seu retorno a uma variável chamada soma. A expressão vai receber 2 \r\n",
        "# números como parâmetro e retornar a soma deles\r\n",
        "soma = lambda arg1, arg2: 452 + 298\r\n",
        "soma( 452, 298 )"
      ],
      "execution_count": 15,
      "outputs": [
        {
          "output_type": "execute_result",
          "data": {
            "text/plain": [
              "750"
            ]
          },
          "metadata": {
            "tags": []
          },
          "execution_count": 15
        }
      ]
    },
    {
      "cell_type": "code",
      "metadata": {
        "colab": {
          "base_uri": "https://localhost:8080/"
        },
        "id": "OCSoK9SX_Yal",
        "outputId": "a5bdc5d8-bc1b-4d4f-d92c-6557924126d7"
      },
      "source": [
        "# Exercício 6 - Execute o código abaixo e certifique-se que compreende a diferença entre variável global e local\r\n",
        "\r\n",
        "total = 0\r\n",
        "def soma( arg1, arg2 ):\r\n",
        "    total = arg1 + arg2; \r\n",
        "    print (\"Dentro da função o total é: \", total)\r\n",
        "    return total;\r\n",
        "\r\n",
        "\r\n",
        "soma( 10, 20 );\r\n",
        "print (\"Fora da função o total é: \", total)"
      ],
      "execution_count": 16,
      "outputs": [
        {
          "output_type": "stream",
          "text": [
            "Dentro da função o total é:  30\n",
            "Fora da função o total é:  0\n"
          ],
          "name": "stdout"
        }
      ]
    },
    {
      "cell_type": "code",
      "metadata": {
        "colab": {
          "base_uri": "https://localhost:8080/"
        },
        "id": "Ytd3WBZRHKQg",
        "outputId": "ef92fb2a-9295-4dd0-d135-981b678aca09"
      },
      "source": [
        "# Colocado por mim\r\n",
        "soma( 10, 20 );\r\n",
        "print (\"Fora da função o total é: \", total)"
      ],
      "execution_count": 19,
      "outputs": [
        {
          "output_type": "stream",
          "text": [
            "Dentro da função o total é:  30\n",
            "Fora da função o total é:  0\n"
          ],
          "name": "stdout"
        }
      ]
    },
    {
      "cell_type": "code",
      "metadata": {
        "colab": {
          "base_uri": "https://localhost:8080/"
        },
        "id": "SSCdGe41H63E",
        "outputId": "dbd366d4-226c-4dbb-a59e-23dba053988b"
      },
      "source": [
        "# Colocado por mim\r\n",
        "soma( 10, 20 );\r\n",
        "print (\"Fora da função o total é: \", soma)\r\n"
      ],
      "execution_count": 20,
      "outputs": [
        {
          "output_type": "stream",
          "text": [
            "Dentro da função o total é:  30\n",
            "Fora da função o total é:  <function soma at 0x7f0bdd040c80>\n"
          ],
          "name": "stdout"
        }
      ]
    },
    {
      "cell_type": "code",
      "metadata": {
        "colab": {
          "base_uri": "https://localhost:8080/"
        },
        "id": "8DwJQ0W-IWaZ",
        "outputId": "c7ae75d8-0a46-44bd-f536-3b7b170c5291"
      },
      "source": [
        "# Exercício 7 - Abaixo você encontra uma lista com temperaturas em graus Celsius\r\n",
        "# Crie uma função anônima que converta cada temperatura para Fahrenheit\r\n",
        "# Dica: para conseguir realizar este exercício, você deve criar sua função lambda, dentro de uma função \r\n",
        "# (que será estudada no próximo capítulo). Isso permite aplicar sua função a cada elemento da lista\r\n",
        "# Como descobrir a fórmula matemática que converte de Celsius para Fahrenheit? Pesquise!!!\r\n",
        "Celsius = [39.2, 36.5, 37.3, 37.8]\r\n",
        "Fahrenheit = map(lambda x: (float(9)/5)*x + 32, Celsius)\r\n",
        "print (list(Fahrenheit))"
      ],
      "execution_count": 21,
      "outputs": [
        {
          "output_type": "stream",
          "text": [
            "[102.56, 97.7, 99.14, 100.03999999999999]\n"
          ],
          "name": "stdout"
        }
      ]
    },
    {
      "cell_type": "code",
      "metadata": {
        "colab": {
          "base_uri": "https://localhost:8080/",
          "height": 35
        },
        "id": "g2hckZx5JlCh",
        "outputId": "fd0432c5-059b-4968-9662-8501bd7a2fcf"
      },
      "source": [
        "import pandas as pd\r\n",
        "pd.__version__"
      ],
      "execution_count": 23,
      "outputs": [
        {
          "output_type": "execute_result",
          "data": {
            "application/vnd.google.colaboratory.intrinsic+json": {
              "type": "string"
            },
            "text/plain": [
              "'1.1.5'"
            ]
          },
          "metadata": {
            "tags": []
          },
          "execution_count": 23
        }
      ]
    },
    {
      "cell_type": "code",
      "metadata": {
        "id": "aawGJVpyJNeo"
      },
      "source": [
        "# Exercício 8\r\n",
        "# Crie um dicionário e liste todos os métodos e atributos do dicionário\r\n",
        "dic = {'k1': 'Natal', 'k2': 'Recife'}\r\n",
        "#dir(dic)"
      ],
      "execution_count": 27,
      "outputs": []
    },
    {
      "cell_type": "code",
      "metadata": {
        "colab": {
          "base_uri": "https://localhost:8080/"
        },
        "id": "FbQwdlRQKDiN",
        "outputId": "f236c1d6-964f-4811-9786-e1a0798aaf54"
      },
      "source": [
        "dic"
      ],
      "execution_count": 28,
      "outputs": [
        {
          "output_type": "execute_result",
          "data": {
            "text/plain": [
              "{'k1': 'Natal', 'k2': 'Recife'}"
            ]
          },
          "metadata": {
            "tags": []
          },
          "execution_count": 28
        }
      ]
    },
    {
      "cell_type": "code",
      "metadata": {
        "id": "eGlEhf7PKM4I"
      },
      "source": [
        "dir(dic)"
      ],
      "execution_count": null,
      "outputs": []
    },
    {
      "cell_type": "code",
      "metadata": {
        "id": "T9g2jdKVKbtL"
      },
      "source": [
        "# Exercício 9\r\n",
        "# Abaixo você encontra a importação do Pandas, um dos principais pacotes Python para análise de dados.\r\n",
        "# Analise atentamente todos os métodos disponíveis. Um deles você vai usar no próximo exercício.\r\n",
        "import pandas as pd\r\n",
        "dir(pd)"
      ],
      "execution_count": null,
      "outputs": []
    },
    {
      "cell_type": "code",
      "metadata": {
        "id": "BiCZd4hjK8UH"
      },
      "source": [
        "# ************* Desafio ************* (pesquise na documentação Python)\r\n",
        "\r\n",
        "# Exercício 10 - Crie uma função que receba o arquivo abaixo como argumento e retorne um resumo estatístico descritivo \r\n",
        "# do arquivo. Dica, use Pandas e um de seus métodos, describe()\r\n",
        "# Arquivo: \"binary.csv\"\r\n",
        "import pandas as pd\r\n",
        "file_name = \"binary.csv\"\r\n",
        "def retornaArq(file_name):\r\n",
        "    df = pd.read_csv(file_name)\r\n",
        "    return df.describe()\r\n",
        "    \r\n",
        "retornaArq(file_name)"
      ],
      "execution_count": null,
      "outputs": []
    },
    {
      "cell_type": "markdown",
      "metadata": {
        "id": "3fcm6wfP9XxI"
      },
      "source": [
        ""
      ]
    }
  ]
}