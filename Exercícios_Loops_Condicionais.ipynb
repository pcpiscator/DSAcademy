{
  "nbformat": 4,
  "nbformat_minor": 0,
  "metadata": {
    "colab": {
      "name": "Exercícios-Loops-Condiconais.ipynb",
      "provenance": [],
      "authorship_tag": "ABX9TyPqs94+EbR6I2jqh0JywrwR",
      "include_colab_link": true
    },
    "kernelspec": {
      "name": "python3",
      "display_name": "Python 3"
    }
  },
  "cells": [
    {
      "cell_type": "markdown",
      "metadata": {
        "id": "view-in-github",
        "colab_type": "text"
      },
      "source": [
        "<a href=\"https://colab.research.google.com/github/pcpiscator/DSAcademy/blob/main/Exerc%C3%ADcios_Loops_Condicionais.ipynb\" target=\"_parent\"><img src=\"https://colab.research.google.com/assets/colab-badge.svg\" alt=\"Open In Colab\"/></a>"
      ]
    },
    {
      "cell_type": "code",
      "metadata": {
        "colab": {
          "base_uri": "https://localhost:8080/"
        },
        "id": "l-QenDY6uw5q",
        "outputId": "cd029932-4633-4f84-f8f3-2f80e6a9d056"
      },
      "source": [
        "# Versão da Linguagem Python\r\n",
        "from platform import python_version\r\n",
        "print('Versão da Linguagem Python Usada Neste Jupyter Notebook:', python_version())"
      ],
      "execution_count": null,
      "outputs": [
        {
          "output_type": "stream",
          "text": [
            "Versão da Linguagem Python Usada Neste Jupyter Notebook: 3.6.9\n"
          ],
          "name": "stdout"
        }
      ]
    },
    {
      "cell_type": "markdown",
      "metadata": {
        "id": "Kto0IaFQuNA2"
      },
      "source": [
        "Exercício 1 - Crie uma estrutura que pergunte ao usuário qual o dia da semana. Se o dia for igual a Domingo ou igual a sábado, imprima na tela \"Hoje é dia de descanso\", caso contrário imprima na tela \"Você precisa trabalhar!\""
      ]
    },
    {
      "cell_type": "code",
      "metadata": {
        "id": "6YBMHCmsteYH",
        "colab": {
          "base_uri": "https://localhost:8080/"
        },
        "outputId": "a1f8bc9d-b5c5-4fba-9618-e5dbdb934512"
      },
      "source": [
        "dia_sem = (int(input('Entre com o dia da semana-sábado:0,domingo:1  ')))\r\n",
        "if (dia_sem == 0 or dia_sem == 1):\r\n",
        "   print(\"Descanse!\")\r\n",
        "else:\r\n",
        "     print(\"Vai trabalhar vagabundo!\")\r\n"
      ],
      "execution_count": null,
      "outputs": [
        {
          "output_type": "stream",
          "text": [
            "Entre com o dia da semana-sábado:0,domingo:1  0\n",
            "Descanse!\n"
          ],
          "name": "stdout"
        }
      ]
    },
    {
      "cell_type": "code",
      "metadata": {
        "id": "1Yp99oboJB_1",
        "colab": {
          "base_uri": "https://localhost:8080/"
        },
        "outputId": "21d40e6a-8082-4516-a6a0-e19ecb44f021"
      },
      "source": [
        "dia_sem = str(input('Entre com o dia da semana  '))\r\n",
        "if (dia_sem == 'sábado' or dia_sem == 'domingo'):\r\n",
        "    print(\"Descanse!\")\r\n",
        "else:\r\n",
        "     print(\"Vai trabalhar vagabundo!\")\r\n"
      ],
      "execution_count": null,
      "outputs": [
        {
          "output_type": "stream",
          "text": [
            "Entre com o dia da semana  segunda\n",
            "Vai trabalhar vagabundo!\n"
          ],
          "name": "stdout"
        }
      ]
    },
    {
      "cell_type": "markdown",
      "metadata": {
        "id": "5x_fR_Wlu-PG"
      },
      "source": [
        "Exercício 2 - Crie uma lista de 5 frutas e verifique se a fruta 'Morango' faz parte da lista"
      ]
    },
    {
      "cell_type": "code",
      "metadata": {
        "id": "19gIXIP-u4lc"
      },
      "source": [
        "lista = [\"ovos, farinha, leite, maças, morangos\"]"
      ],
      "execution_count": null,
      "outputs": []
    },
    {
      "cell_type": "code",
      "metadata": {
        "colab": {
          "base_uri": "https://localhost:8080/",
          "height": 35
        },
        "id": "yTxQgaSlxMOG",
        "outputId": "bc05fe36-05d5-4ca6-f135-dffbf0f97ea1"
      },
      "source": [
        "lista[0]"
      ],
      "execution_count": null,
      "outputs": [
        {
          "output_type": "execute_result",
          "data": {
            "application/vnd.google.colaboratory.intrinsic+json": {
              "type": "string"
            },
            "text/plain": [
              "'ovos, farinha, leite, maças, morangos'"
            ]
          },
          "metadata": {
            "tags": []
          },
          "execution_count": 33
        }
      ]
    },
    {
      "cell_type": "code",
      "metadata": {
        "id": "yYp05wvTxU3B"
      },
      "source": [
        "lista1 = [\"ovos\", \"farinha\", \"leite\", \"maças\", \"morangos\"]"
      ],
      "execution_count": null,
      "outputs": []
    },
    {
      "cell_type": "code",
      "metadata": {
        "colab": {
          "base_uri": "https://localhost:8080/",
          "height": 35
        },
        "id": "2GuETiccx8jL",
        "outputId": "932d90aa-3095-4ecd-fa58-befa27f73b7b"
      },
      "source": [
        "lista1[0]"
      ],
      "execution_count": null,
      "outputs": [
        {
          "output_type": "execute_result",
          "data": {
            "application/vnd.google.colaboratory.intrinsic+json": {
              "type": "string"
            },
            "text/plain": [
              "'ovos'"
            ]
          },
          "metadata": {
            "tags": []
          },
          "execution_count": 35
        }
      ]
    },
    {
      "cell_type": "code",
      "metadata": {
        "colab": {
          "base_uri": "https://localhost:8080/"
        },
        "id": "xgXY7ojwyKyI",
        "outputId": "c2a09b79-c85e-46b6-d19f-18e76a73fc88"
      },
      "source": [
        "print (lista1[0])"
      ],
      "execution_count": null,
      "outputs": [
        {
          "output_type": "stream",
          "text": [
            "ovos\n"
          ],
          "name": "stdout"
        }
      ]
    },
    {
      "cell_type": "code",
      "metadata": {
        "colab": {
          "base_uri": "https://localhost:8080/"
        },
        "id": "stCE1EdMyaWO",
        "outputId": "a3f0bd2a-3797-4c8c-fa9f-95cc08507a42"
      },
      "source": [
        "print (lista1)"
      ],
      "execution_count": null,
      "outputs": [
        {
          "output_type": "stream",
          "text": [
            "['ovos', 'farinha', 'leite', 'maças', 'morangos']\n"
          ],
          "name": "stdout"
        }
      ]
    },
    {
      "cell_type": "code",
      "metadata": {
        "colab": {
          "base_uri": "https://localhost:8080/"
        },
        "id": "Jl0K-KZryfAR",
        "outputId": "47656e9e-8745-4e88-bdd6-1d5eff4991ca"
      },
      "source": [
        "print (lista1[4])"
      ],
      "execution_count": null,
      "outputs": [
        {
          "output_type": "stream",
          "text": [
            "morangos\n"
          ],
          "name": "stdout"
        }
      ]
    },
    {
      "cell_type": "markdown",
      "metadata": {
        "id": "zUBRebxozDcA"
      },
      "source": [
        "Exercício 3 - Crie uma tupla de 4 elementos, multiplique cada elemento da tupla por 2 e guarde os resultados em uma lista"
      ]
    },
    {
      "cell_type": "code",
      "metadata": {
        "id": "Xuzz88GyzSid"
      },
      "source": [
        "tupla = ('caderno','livro','jornal','folheto',35)"
      ],
      "execution_count": null,
      "outputs": []
    },
    {
      "cell_type": "code",
      "metadata": {
        "colab": {
          "base_uri": "https://localhost:8080/"
        },
        "id": "jwUhBn0R0Fe_",
        "outputId": "4ee165ce-7d4b-439d-c608-633ce279404f"
      },
      "source": [
        "print(tupla)"
      ],
      "execution_count": null,
      "outputs": [
        {
          "output_type": "stream",
          "text": [
            "('caderno', 'livro', 'jornal', 'folheto', 35)\n"
          ],
          "name": "stdout"
        }
      ]
    },
    {
      "cell_type": "code",
      "metadata": {
        "id": "q30lPYs0-e7_"
      },
      "source": [
        "tupla = tupla * 3"
      ],
      "execution_count": null,
      "outputs": []
    },
    {
      "cell_type": "code",
      "metadata": {
        "colab": {
          "base_uri": "https://localhost:8080/"
        },
        "id": "xrAGLDeQ-xU-",
        "outputId": "c5ed0084-b9a6-4bf3-fccc-806a305b5139"
      },
      "source": [
        "print (tupla)"
      ],
      "execution_count": null,
      "outputs": [
        {
          "output_type": "stream",
          "text": [
            "('caderno', 'livro', 'jornal', 'folheto', 35, 'caderno', 'livro', 'jornal', 'folheto', 35, 'caderno', 'livro', 'jornal', 'folheto', 35)\n"
          ],
          "name": "stdout"
        }
      ]
    },
    {
      "cell_type": "code",
      "metadata": {
        "id": "6Ptia-t4_mqU"
      },
      "source": [
        "lista_t2 = list(tupla)"
      ],
      "execution_count": null,
      "outputs": []
    },
    {
      "cell_type": "code",
      "metadata": {
        "colab": {
          "base_uri": "https://localhost:8080/"
        },
        "id": "BT-hWO7p_u6b",
        "outputId": "2f956446-c0b0-40ca-8e28-16ab64c48587"
      },
      "source": [
        "print(lista_t2)"
      ],
      "execution_count": null,
      "outputs": [
        {
          "output_type": "stream",
          "text": [
            "['caderno', 'livro', 'jornal', 'folheto', 35, 'caderno', 'livro', 'jornal', 'folheto', 35, 'caderno', 'livro', 'jornal', 'folheto', 35]\n"
          ],
          "name": "stdout"
        }
      ]
    },
    {
      "cell_type": "markdown",
      "metadata": {
        "id": "jJcrnLiDAXZ1"
      },
      "source": [
        "Exercício 4 - Crie uma sequência de números pares entre 100 e 150 e imprima na tela"
      ]
    },
    {
      "cell_type": "code",
      "metadata": {
        "id": "a8_rjd3YBhMU"
      },
      "source": [
        "for i in range(100, 151, 2):\r\n",
        "    print(i)"
      ],
      "execution_count": null,
      "outputs": []
    },
    {
      "cell_type": "markdown",
      "metadata": {
        "id": "QwpZgV5PC-Vw"
      },
      "source": [
        "Exercício 5 - Crie uma variável chamada temperatura e atribua o valor 40. Enquanto temperatura for maior que 35, imprima as temperaturas na tela"
      ]
    },
    {
      "cell_type": "code",
      "metadata": {
        "colab": {
          "base_uri": "https://localhost:8080/",
          "height": 231
        },
        "id": "6zI8R9dlDsEg",
        "outputId": "7dcdc819-ade0-42c9-985b-8bcfdddfcb5e"
      },
      "source": [
        "i = 0\r\n",
        "temperatura = 40\r\n",
        "while temperatura>=35 and temperatura<=40:\r\n",
        "  i = i+1\r\n",
        "temperatura = temperatura-i \r\n",
        "if temperatura <=40:\r\n",
        "   print(temperatura)\r\n"
      ],
      "execution_count": null,
      "outputs": [
        {
          "output_type": "error",
          "ename": "KeyboardInterrupt",
          "evalue": "ignored",
          "traceback": [
            "\u001b[0;31m---------------------------------------------------------------------------\u001b[0m",
            "\u001b[0;31mKeyboardInterrupt\u001b[0m                         Traceback (most recent call last)",
            "\u001b[0;32m<ipython-input-14-32ff2bae1ddc>\u001b[0m in \u001b[0;36m<module>\u001b[0;34m()\u001b[0m\n\u001b[1;32m      2\u001b[0m \u001b[0mtemperatura\u001b[0m \u001b[0;34m=\u001b[0m \u001b[0;36m40\u001b[0m\u001b[0;34m\u001b[0m\u001b[0;34m\u001b[0m\u001b[0m\n\u001b[1;32m      3\u001b[0m \u001b[0;32mwhile\u001b[0m \u001b[0mtemperatura\u001b[0m\u001b[0;34m>=\u001b[0m\u001b[0;36m35\u001b[0m \u001b[0;32mand\u001b[0m \u001b[0mtemperatura\u001b[0m\u001b[0;34m<=\u001b[0m\u001b[0;36m40\u001b[0m\u001b[0;34m:\u001b[0m\u001b[0;34m\u001b[0m\u001b[0;34m\u001b[0m\u001b[0m\n\u001b[0;32m----> 4\u001b[0;31m   \u001b[0mi\u001b[0m \u001b[0;34m=\u001b[0m \u001b[0mi\u001b[0m\u001b[0;34m+\u001b[0m\u001b[0;36m1\u001b[0m\u001b[0;34m\u001b[0m\u001b[0;34m\u001b[0m\u001b[0m\n\u001b[0m\u001b[1;32m      5\u001b[0m \u001b[0mtemperatura\u001b[0m \u001b[0;34m=\u001b[0m \u001b[0mtemperatura\u001b[0m\u001b[0;34m-\u001b[0m\u001b[0mi\u001b[0m\u001b[0;34m\u001b[0m\u001b[0;34m\u001b[0m\u001b[0m\n\u001b[1;32m      6\u001b[0m \u001b[0;32mif\u001b[0m \u001b[0mtemperatura\u001b[0m \u001b[0;34m<=\u001b[0m\u001b[0;36m40\u001b[0m\u001b[0;34m:\u001b[0m\u001b[0;34m\u001b[0m\u001b[0;34m\u001b[0m\u001b[0m\n",
            "\u001b[0;31mKeyboardInterrupt\u001b[0m: "
          ]
        }
      ]
    },
    {
      "cell_type": "markdown",
      "metadata": {
        "id": "_iXf21EXPb3a"
      },
      "source": [
        "Exercício 6 - Crie uma variável chamada contador = 0. Enquanto counter for menor que 100, imprima os valores na tela,  mas quando for encontrado o valor 23, interrompa a execução do programa."
      ]
    },
    {
      "cell_type": "code",
      "metadata": {
        "id": "UOWKzKhtQNrB"
      },
      "source": [
        "for contador in range(0,100):\r\n",
        "  if contador <= 50:\r\n",
        "    print(contador)\r\n",
        "  if contador >= 23:\r\n",
        "    break\r\n",
        "    \r\n"
      ],
      "execution_count": null,
      "outputs": []
    },
    {
      "cell_type": "markdown",
      "metadata": {
        "id": "kimA2Nv7BAxq"
      },
      "source": [
        "Exercício 7 - Crie uma lista vazia e uma variável com valor 4. Enquanto o valor da variável for menor ou igual a 20, adicione à lista, apenas os valores pares e imprima a lista."
      ]
    },
    {
      "cell_type": "code",
      "metadata": {
        "id": "4_96OLo2BV-q"
      },
      "source": [
        "listav = []\r\n",
        "valor = 4\r\n",
        "for valorv in range(4,21,2):\r\n",
        "  listav.append(valorv)\r\n",
        "  print(listav)\r\n"
      ],
      "execution_count": null,
      "outputs": []
    },
    {
      "cell_type": "markdown",
      "metadata": {
        "id": "KnSW5b7fEUni"
      },
      "source": [
        "Exercício 8 - Transforme o resultado desta função range em uma lista: range(5, 45, 2)\r\n",
        "\r\n",
        "nums = range(5, 45, 2)"
      ]
    },
    {
      "cell_type": "code",
      "metadata": {
        "colab": {
          "base_uri": "https://localhost:8080/"
        },
        "id": "Kuh-f64dFNKP",
        "outputId": "3d9ca737-9716-4a8c-da32-20dd44556567"
      },
      "source": [
        "listanum = []\r\n",
        "nums = 5\r\n",
        "for nums in range(5, 45, 2):\r\n",
        "   listanum.append(nums)\r\n",
        "print(listanum)"
      ],
      "execution_count": null,
      "outputs": [
        {
          "output_type": "stream",
          "text": [
            "[5, 7, 9, 11, 13, 15, 17, 19, 21, 23, 25, 27, 29, 31, 33, 35, 37, 39, 41, 43]\n"
          ],
          "name": "stdout"
        }
      ]
    },
    {
      "cell_type": "markdown",
      "metadata": {
        "id": "aCSlhWvBG1m5"
      },
      "source": [
        "### Exercício 9 - Faça a correção dos erros no código abaixo e execute o programa. Dica: são 3 erros.\r\n",
        "\r\n",
        "temperatura = float(input('Qual a temperatura? '))\r\n",
        "\r\n",
        "if temperatura > 30\r\n",
        "\r\n",
        "print('Vista roupas leves.')\r\n",
        "\r\n",
        "else \r\n",
        "\r\n",
        "print('Busque seus casacos.')"
      ]
    },
    {
      "cell_type": "code",
      "metadata": {
        "id": "Ys3FyzdpIwGG"
      },
      "source": [
        "temperatura = float(input('Qual a temperatura? '))\r\n",
        "if temperatura > 30:\r\n",
        "   print('Vista roupas leves.')\r\n",
        "else:\r\n",
        "    print('Busque seus casacos.')"
      ],
      "execution_count": null,
      "outputs": []
    },
    {
      "cell_type": "markdown",
      "metadata": {
        "id": "UpTEpIaUJmIq"
      },
      "source": [
        "Exercício 10 - Faça um programa que conte quantas vezes a letra \"r\" aparece na frase abaixo. Use um placeholder na sua instrução de impressão.\r\n",
        "\r\n",
        "frase = \"É melhor, muito melhor, contentar-se com a realidade; se ela não é tão brilhante como os sonhos, tem pelo menos a vantagem de existir.\"(Machado de Assis)"
      ]
    },
    {
      "cell_type": "code",
      "metadata": {
        "id": "55g_YURbcfZL",
        "outputId": "64499b3d-ad95-48a9-d6d3-2ded339c2265",
        "colab": {
          "base_uri": "https://localhost:8080/"
        }
      },
      "source": [
        "frase = \"É melhor, muito melhor, contentar-se com a realidade; se ela não é tão brilhante como os sonhos, tem pelo menos a vantagem de existir.\" \r\n",
        "count = 0\r\n",
        "for caracter in frase:\r\n",
        "    if caracter == 'r':\r\n",
        "        count += 1\r\n",
        "print(\"O caracter r aparece %s vezes na frase.\" %(count))"
      ],
      "execution_count": 1,
      "outputs": [
        {
          "output_type": "stream",
          "text": [
            "O caracter r aparece 6 vezes na frase.\n"
          ],
          "name": "stdout"
        }
      ]
    }
  ]
}