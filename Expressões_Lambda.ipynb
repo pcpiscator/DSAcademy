{
  "nbformat": 4,
  "nbformat_minor": 0,
  "metadata": {
    "colab": {
      "name": "Expressões Lambda.ipynb",
      "provenance": [],
      "authorship_tag": "ABX9TyPVoFo/GNE+6XbWaM7u2wT1",
      "include_colab_link": true
    },
    "kernelspec": {
      "name": "python3",
      "display_name": "Python 3"
    }
  },
  "cells": [
    {
      "cell_type": "markdown",
      "metadata": {
        "id": "view-in-github",
        "colab_type": "text"
      },
      "source": [
        "<a href=\"https://colab.research.google.com/github/pcpiscator/DSAcademy/blob/main/Express%C3%B5es_Lambda.ipynb\" target=\"_parent\"><img src=\"https://colab.research.google.com/assets/colab-badge.svg\" alt=\"Open In Colab\"/></a>"
      ]
    },
    {
      "cell_type": "markdown",
      "metadata": {
        "id": "ujGKiAWFHPal"
      },
      "source": [
        "# **Expressões Lambda**"
      ]
    },
    {
      "cell_type": "code",
      "metadata": {
        "id": "bJYJ6in8HOQc",
        "outputId": "46546475-5f6d-4148-d66c-de1ff77bff72",
        "colab": {
          "base_uri": "https://localhost:8080/"
        }
      },
      "source": [
        "# Versão da Linguagem Python\r\n",
        "from platform import python_version\r\n",
        "print('Versão da Linguagem Python Usada Neste Jupyter Notebook:', python_version())"
      ],
      "execution_count": 1,
      "outputs": [
        {
          "output_type": "stream",
          "text": [
            "Versão da Linguagem Python Usada Neste Jupyter Notebook: 3.6.9\n"
          ],
          "name": "stdout"
        }
      ]
    },
    {
      "cell_type": "code",
      "metadata": {
        "id": "SzF9wm1xXfxP"
      },
      "source": [
        "# Definindo uma função - 3 linhas de código\r\n",
        " def potencia(num):\r\n",
        "    result = num**2\r\n",
        "    return result"
      ],
      "execution_count": 3,
      "outputs": []
    },
    {
      "cell_type": "code",
      "metadata": {
        "id": "7M4xpRsFXt3G",
        "outputId": "9bfbdd84-ed8e-47f5-d194-dc9036d2d39e",
        "colab": {
          "base_uri": "https://localhost:8080/"
        }
      },
      "source": [
        "potencia(5)"
      ],
      "execution_count": 4,
      "outputs": [
        {
          "output_type": "execute_result",
          "data": {
            "text/plain": [
              "25"
            ]
          },
          "metadata": {
            "tags": []
          },
          "execution_count": 4
        }
      ]
    },
    {
      "cell_type": "code",
      "metadata": {
        "id": "l2PMnMzyYAcg",
        "outputId": "4e92b3cc-c75a-4425-ac14-1a93aba30206",
        "colab": {
          "base_uri": "https://localhost:8080/"
        }
      },
      "source": [
        "#Posto por mim\r\n",
        "x = int(input('entre com um expoente '))  \r\n",
        "def potencia(num):\r\n",
        "      result = num**x\r\n",
        "      return result"
      ],
      "execution_count": 13,
      "outputs": [
        {
          "output_type": "stream",
          "text": [
            "entre com um expoente 5\n"
          ],
          "name": "stdout"
        }
      ]
    },
    {
      "cell_type": "code",
      "metadata": {
        "id": "AofSeYc7YoJ2"
      },
      "source": [
        "potencia(5)\r\n"
      ],
      "execution_count": null,
      "outputs": []
    },
    {
      "cell_type": "code",
      "metadata": {
        "id": "6MzN89h5Z-bq"
      },
      "source": [
        "# Definindo uma função - 2 linhas de código\r\n",
        "def potencia(num):\r\n",
        "    return num**2"
      ],
      "execution_count": 15,
      "outputs": []
    },
    {
      "cell_type": "code",
      "metadata": {
        "id": "DVPjJ9WYaDVk",
        "outputId": "61b8549b-1049-466f-b970-d0f5041fc453",
        "colab": {
          "base_uri": "https://localhost:8080/"
        }
      },
      "source": [
        "potencia(5)"
      ],
      "execution_count": 16,
      "outputs": [
        {
          "output_type": "execute_result",
          "data": {
            "text/plain": [
              "25"
            ]
          },
          "metadata": {
            "tags": []
          },
          "execution_count": 16
        }
      ]
    },
    {
      "cell_type": "code",
      "metadata": {
        "id": "608nI2GtaK1l"
      },
      "source": [
        "# Definindo uma função - 1 linha de código\r\n",
        "def potencia(num): return num**2"
      ],
      "execution_count": 17,
      "outputs": []
    },
    {
      "cell_type": "code",
      "metadata": {
        "id": "jlKw1Lb2aO59",
        "outputId": "4155a2ca-703c-4904-fddc-304b441e132f",
        "colab": {
          "base_uri": "https://localhost:8080/"
        }
      },
      "source": [
        "potencia(5)"
      ],
      "execution_count": 18,
      "outputs": [
        {
          "output_type": "execute_result",
          "data": {
            "text/plain": [
              "25"
            ]
          },
          "metadata": {
            "tags": []
          },
          "execution_count": 18
        }
      ]
    },
    {
      "cell_type": "code",
      "metadata": {
        "id": "NhMEhBSQagBt"
      },
      "source": [
        "# Definindo uma expressão lambda\r\n",
        "potencia = lambda num: num**2"
      ],
      "execution_count": 20,
      "outputs": []
    },
    {
      "cell_type": "code",
      "metadata": {
        "id": "_rU1Ow6Lao5J",
        "outputId": "27a132d2-aa97-4fa5-87c9-df0053cea809",
        "colab": {
          "base_uri": "https://localhost:8080/"
        }
      },
      "source": [
        "potencia(5)"
      ],
      "execution_count": 21,
      "outputs": [
        {
          "output_type": "execute_result",
          "data": {
            "text/plain": [
              "25"
            ]
          },
          "metadata": {
            "tags": []
          },
          "execution_count": 21
        }
      ]
    },
    {
      "cell_type": "code",
      "metadata": {
        "id": "U6NK3Z6BayzQ",
        "outputId": "ceacb7e3-df45-46a3-b61c-e80290619e65",
        "colab": {
          "base_uri": "https://localhost:8080/"
        }
      },
      "source": [
        "#Posto por mim\r\n",
        "x = int(input('entre com um expoente '))  \r\n",
        "potencia = lambda num: num**x\r\n",
        "     "
      ],
      "execution_count": 22,
      "outputs": [
        {
          "output_type": "stream",
          "text": [
            "entre com um expoente 5\n"
          ],
          "name": "stdout"
        }
      ]
    },
    {
      "cell_type": "code",
      "metadata": {
        "id": "hmG49axtbDmN",
        "outputId": "cc0c7b5b-18ac-48f7-e8ca-a036af930b7b",
        "colab": {
          "base_uri": "https://localhost:8080/"
        }
      },
      "source": [
        "potencia(5)\r\n"
      ],
      "execution_count": 24,
      "outputs": [
        {
          "output_type": "execute_result",
          "data": {
            "text/plain": [
              "3125"
            ]
          },
          "metadata": {
            "tags": []
          },
          "execution_count": 24
        }
      ]
    },
    {
      "cell_type": "code",
      "metadata": {
        "id": "tfe58dPgbY0J"
      },
      "source": [
        "# Lembre: operadores de comparação retornam boolean, true or false\r\n",
        "Par = lambda x: x%2==0"
      ],
      "execution_count": 25,
      "outputs": []
    },
    {
      "cell_type": "code",
      "metadata": {
        "id": "SnkPJhA-bcKN",
        "outputId": "bc93f8c5-97ca-4bcb-b344-ade033bb34da",
        "colab": {
          "base_uri": "https://localhost:8080/"
        }
      },
      "source": [
        "Par(3)"
      ],
      "execution_count": 26,
      "outputs": [
        {
          "output_type": "execute_result",
          "data": {
            "text/plain": [
              "False"
            ]
          },
          "metadata": {
            "tags": []
          },
          "execution_count": 26
        }
      ]
    },
    {
      "cell_type": "code",
      "metadata": {
        "id": "HlVirGFEbgUJ",
        "outputId": "6268cb74-4519-472c-99c5-812ff06863d2",
        "colab": {
          "base_uri": "https://localhost:8080/"
        }
      },
      "source": [
        "Par(4)"
      ],
      "execution_count": 27,
      "outputs": [
        {
          "output_type": "execute_result",
          "data": {
            "text/plain": [
              "True"
            ]
          },
          "metadata": {
            "tags": []
          },
          "execution_count": 27
        }
      ]
    },
    {
      "cell_type": "code",
      "metadata": {
        "id": "1SbS0MlCbqhg"
      },
      "source": [
        "first = lambda s: s[0]"
      ],
      "execution_count": 28,
      "outputs": []
    },
    {
      "cell_type": "code",
      "metadata": {
        "id": "0m2bSLAMbsmw",
        "outputId": "3a3d246e-0ee0-40c5-a3b0-78f2b979cd56",
        "colab": {
          "base_uri": "https://localhost:8080/",
          "height": 35
        }
      },
      "source": [
        "first('Python')"
      ],
      "execution_count": 29,
      "outputs": [
        {
          "output_type": "execute_result",
          "data": {
            "application/vnd.google.colaboratory.intrinsic+json": {
              "type": "string"
            },
            "text/plain": [
              "'P'"
            ]
          },
          "metadata": {
            "tags": []
          },
          "execution_count": 29
        }
      ]
    },
    {
      "cell_type": "code",
      "metadata": {
        "id": "BA5XfTAbbzrn"
      },
      "source": [
        "reverso = lambda s: s[::-1]"
      ],
      "execution_count": 31,
      "outputs": []
    },
    {
      "cell_type": "code",
      "metadata": {
        "id": "BU5xFi2Mb-M0",
        "outputId": "98ff95c6-69a3-4b96-c5f0-f42cff6485a5",
        "colab": {
          "base_uri": "https://localhost:8080/",
          "height": 35
        }
      },
      "source": [
        "reverso('Python')"
      ],
      "execution_count": 32,
      "outputs": [
        {
          "output_type": "execute_result",
          "data": {
            "application/vnd.google.colaboratory.intrinsic+json": {
              "type": "string"
            },
            "text/plain": [
              "'nohtyP'"
            ]
          },
          "metadata": {
            "tags": []
          },
          "execution_count": 32
        }
      ]
    },
    {
      "cell_type": "code",
      "metadata": {
        "id": "maILif9eckxY"
      },
      "source": [
        "addNum = lambda x,y : x+y"
      ],
      "execution_count": 33,
      "outputs": []
    },
    {
      "cell_type": "code",
      "metadata": {
        "id": "CKlEKSL5coNj",
        "outputId": "dbfa64aa-dd18-4c2f-be0a-6ee8a4a48fd6",
        "colab": {
          "base_uri": "https://localhost:8080/"
        }
      },
      "source": [
        "addNum(2,3)"
      ],
      "execution_count": 34,
      "outputs": [
        {
          "output_type": "execute_result",
          "data": {
            "text/plain": [
              "5"
            ]
          },
          "metadata": {
            "tags": []
          },
          "execution_count": 34
        }
      ]
    },
    {
      "cell_type": "code",
      "metadata": {
        "id": "BzmAKaATct-Q"
      },
      "source": [
        "#Posto por mim\r\n",
        "multnum = lambda x,y : x*y"
      ],
      "execution_count": 37,
      "outputs": []
    },
    {
      "cell_type": "code",
      "metadata": {
        "id": "7qc6FGmqdCZN",
        "outputId": "53774d6c-b4b0-490d-d802-09ec0e471e97",
        "colab": {
          "base_uri": "https://localhost:8080/"
        }
      },
      "source": [
        "multnum(5,4)"
      ],
      "execution_count": 38,
      "outputs": [
        {
          "output_type": "execute_result",
          "data": {
            "text/plain": [
              "20"
            ]
          },
          "metadata": {
            "tags": []
          },
          "execution_count": 38
        }
      ]
    },
    {
      "cell_type": "code",
      "metadata": {
        "id": "nCfT5kerdULm"
      },
      "source": [
        "#Posto por mim\r\n",
        "potnum = lambda x,y : x**y"
      ],
      "execution_count": 39,
      "outputs": []
    },
    {
      "cell_type": "code",
      "metadata": {
        "id": "WVODcGQ_dafC",
        "outputId": "5197653d-8220-4d36-9bb7-eb94e26e29a0",
        "colab": {
          "base_uri": "https://localhost:8080/"
        }
      },
      "source": [
        "potnum(2,5)"
      ],
      "execution_count": 40,
      "outputs": [
        {
          "output_type": "execute_result",
          "data": {
            "text/plain": [
              "32"
            ]
          },
          "metadata": {
            "tags": []
          },
          "execution_count": 40
        }
      ]
    },
    {
      "cell_type": "markdown",
      "metadata": {
        "id": "vfr0hsebdkj3"
      },
      "source": [
        "## **Fim**\r\n",
        "\r\n",
        "# **Obrigado - Data Science Academy**"
      ]
    }
  ]
}