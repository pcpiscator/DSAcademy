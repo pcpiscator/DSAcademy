{
  "nbformat": 4,
  "nbformat_minor": 0,
  "metadata": {
    "colab": {
      "name": "Métodos.ipynb",
      "provenance": [],
      "authorship_tag": "ABX9TyMnhBauMJ2I+gb8YHqjXONP",
      "include_colab_link": true
    },
    "kernelspec": {
      "name": "python3",
      "display_name": "Python 3"
    }
  },
  "cells": [
    {
      "cell_type": "markdown",
      "metadata": {
        "id": "view-in-github",
        "colab_type": "text"
      },
      "source": [
        "<a href=\"https://colab.research.google.com/github/pcpiscator/DSAcademy/blob/main/M%C3%A9todos.ipynb\" target=\"_parent\"><img src=\"https://colab.research.google.com/assets/colab-badge.svg\" alt=\"Open In Colab\"/></a>"
      ]
    },
    {
      "cell_type": "code",
      "metadata": {
        "colab": {
          "base_uri": "https://localhost:8080/"
        },
        "id": "yxhAvf_ZjZSf",
        "outputId": "9a0d5f81-e3b0-4645-8a03-59184180d4d6"
      },
      "source": [
        "# Versão da Linguagem Python\r\n",
        "from platform import python_version\r\n",
        "print('Versão da Linguagem Python Usada Neste Jupyter Notebook:', python_version())"
      ],
      "execution_count": null,
      "outputs": [
        {
          "output_type": "stream",
          "text": [
            "Versão da Linguagem Python Usada Neste Jupyter Notebook: 3.6.9\n"
          ],
          "name": "stdout"
        }
      ]
    },
    {
      "cell_type": "code",
      "metadata": {
        "id": "wDjwm0Lljmn8"
      },
      "source": [
        "# Criando uma lista\r\n",
        "lst = [100, -2, 12, 65, 0]"
      ],
      "execution_count": null,
      "outputs": []
    },
    {
      "cell_type": "code",
      "metadata": {
        "id": "J_W7PH0djosJ"
      },
      "source": [
        "# Usando um método do objeto lista\r\n",
        "lst.append(10)\r\n"
      ],
      "execution_count": null,
      "outputs": []
    },
    {
      "cell_type": "code",
      "metadata": {
        "colab": {
          "base_uri": "https://localhost:8080/"
        },
        "id": "BO3QiHEfmTTp",
        "outputId": "60970a59-f0da-49c8-cefd-edafeddf6376"
      },
      "source": [
        "# Imprimindo a lista\r\n",
        "lst"
      ],
      "execution_count": null,
      "outputs": [
        {
          "output_type": "execute_result",
          "data": {
            "text/plain": [
              "[100, -2, 12, 65, 0, 10]"
            ]
          },
          "metadata": {
            "tags": []
          },
          "execution_count": 25
        }
      ]
    },
    {
      "cell_type": "code",
      "metadata": {
        "colab": {
          "base_uri": "https://localhost:8080/"
        },
        "id": "9HeDcN6JBe-g",
        "outputId": "5f25e61a-cc6a-4843-f296-f4a35038dacd"
      },
      "source": [
        "# Usando um método do objeto lista\r\n",
        "lst.count(10)"
      ],
      "execution_count": null,
      "outputs": [
        {
          "output_type": "execute_result",
          "data": {
            "text/plain": [
              "1"
            ]
          },
          "metadata": {
            "tags": []
          },
          "execution_count": 26
        }
      ]
    },
    {
      "cell_type": "code",
      "metadata": {
        "id": "FalrHWq6CM_9"
      },
      "source": [
        "# A função help() explica como utilizar cada método de um objeto\r\n",
        "help(lst.count)"
      ],
      "execution_count": null,
      "outputs": []
    },
    {
      "cell_type": "code",
      "metadata": {
        "id": "egbjm7hKCX_x"
      },
      "source": [
        "# A função dir() mostra todos os métodos e atributos de um objeto\r\n",
        "dir(lst)"
      ],
      "execution_count": null,
      "outputs": []
    },
    {
      "cell_type": "code",
      "metadata": {
        "id": "NCebhrcFCkSj"
      },
      "source": [
        "a = 'Isso é uma string'"
      ],
      "execution_count": null,
      "outputs": []
    },
    {
      "cell_type": "code",
      "metadata": {
        "id": "oqXfRrZICtMO"
      },
      "source": [
        "a"
      ],
      "execution_count": null,
      "outputs": []
    },
    {
      "cell_type": "code",
      "metadata": {
        "colab": {
          "base_uri": "https://localhost:8080/"
        },
        "id": "kD2h-yGxCxOX",
        "outputId": "153520aa-a2bd-4ff9-85bf-c557211e056e"
      },
      "source": [
        "# O método de um objeto pode ser chamado dentro de uma função, como print()\r\n",
        "print (a.split())"
      ],
      "execution_count": null,
      "outputs": [
        {
          "output_type": "stream",
          "text": [
            "['Isso', 'é', 'uma', 'string']\n"
          ],
          "name": "stdout"
        }
      ]
    },
    {
      "cell_type": "code",
      "metadata": {
        "colab": {
          "base_uri": "https://localhost:8080/"
        },
        "id": "FSe5rlupED6C",
        "outputId": "1b0041c7-1ad9-4630-fb72-04647b8f9a8b"
      },
      "source": [
        " (a.split())"
      ],
      "execution_count": null,
      "outputs": [
        {
          "output_type": "execute_result",
          "data": {
            "text/plain": [
              "['Isso', 'é', 'uma', 'string']"
            ]
          },
          "metadata": {
            "tags": []
          },
          "execution_count": 35
        }
      ]
    },
    {
      "cell_type": "code",
      "metadata": {
        "id": "tzeFwDi0EJAx"
      },
      "source": [
        "listA=[]\r\n"
      ],
      "execution_count": null,
      "outputs": []
    },
    {
      "cell_type": "code",
      "metadata": {
        "id": "EnepTv3_Uoyi"
      },
      "source": [
        "listA.append(a.split())"
      ],
      "execution_count": null,
      "outputs": []
    },
    {
      "cell_type": "code",
      "metadata": {
        "colab": {
          "base_uri": "https://localhost:8080/"
        },
        "id": "EI0gLXWFUtQL",
        "outputId": "8d3315d3-f786-45b2-9a11-c2a8e8bdc2d3"
      },
      "source": [
        "listA"
      ],
      "execution_count": null,
      "outputs": [
        {
          "output_type": "execute_result",
          "data": {
            "text/plain": [
              "[['Isso', 'é', 'uma', 'string']]"
            ]
          },
          "metadata": {
            "tags": []
          },
          "execution_count": 45
        }
      ]
    },
    {
      "cell_type": "markdown",
      "metadata": {
        "id": "JOBRFCGhe4VW"
      },
      "source": [
        "Abaixo vem da Exercícios-Loops-Condicionais"
      ]
    },
    {
      "cell_type": "code",
      "metadata": {
        "id": "W1yKs58XXMwV"
      },
      "source": [
        "frase = \"É melhor, muito melhor, contentar-se com a realidade; se ela não é tão brilhante como os sonhos, tem pelo menos a vantagem de existir.\""
      ],
      "execution_count": 4,
      "outputs": []
    },
    {
      "cell_type": "code",
      "metadata": {
        "id": "tDmKZ9GQfJcF"
      },
      "source": [
        ""
      ],
      "execution_count": 4,
      "outputs": []
    },
    {
      "cell_type": "code",
      "metadata": {
        "colab": {
          "base_uri": "https://localhost:8080/",
          "height": 35
        },
        "id": "jbmHqbRWYnc4",
        "outputId": "1b5bb575-4cf9-45a8-ae87-b58f77ec5cbd"
      },
      "source": [
        "frase"
      ],
      "execution_count": 5,
      "outputs": [
        {
          "output_type": "execute_result",
          "data": {
            "application/vnd.google.colaboratory.intrinsic+json": {
              "type": "string"
            },
            "text/plain": [
              "'É melhor, muito melhor, contentar-se com a realidade; se ela não é tão brilhante como os sonhos, tem pelo menos a vantagem de existir.'"
            ]
          },
          "metadata": {
            "tags": []
          },
          "execution_count": 5
        }
      ]
    },
    {
      "cell_type": "code",
      "metadata": {
        "colab": {
          "base_uri": "https://localhost:8080/"
        },
        "id": "3Ac3n0HdYyXx",
        "outputId": "e4694a41-266c-4b8b-80e4-912f08d535cd"
      },
      "source": [
        "(frase.split(\"\\n\"))"
      ],
      "execution_count": 6,
      "outputs": [
        {
          "output_type": "execute_result",
          "data": {
            "text/plain": [
              "['É melhor, muito melhor, contentar-se com a realidade; se ela não é tão brilhante como os sonhos, tem pelo menos a vantagem de existir.']"
            ]
          },
          "metadata": {
            "tags": []
          },
          "execution_count": 6
        }
      ]
    },
    {
      "cell_type": "markdown",
      "metadata": {
        "id": "8YnyrILcXD7r"
      },
      "source": [
        "## Fim\r\n",
        "\r\n",
        "# Obrigado - Data Science Academy"
      ]
    }
  ]
}