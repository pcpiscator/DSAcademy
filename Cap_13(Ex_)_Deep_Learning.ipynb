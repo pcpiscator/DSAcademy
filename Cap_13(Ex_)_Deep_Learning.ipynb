{
  "nbformat": 4,
  "nbformat_minor": 0,
  "metadata": {
    "colab": {
      "name": "Cap.13(Ex.) - Deep Learning.ipynb",
      "provenance": [],
      "collapsed_sections": [],
      "authorship_tag": "ABX9TyM3cyP1uK2NBXdUrTFMOnjP",
      "include_colab_link": true
    },
    "kernelspec": {
      "name": "python3",
      "display_name": "Python 3"
    },
    "language_info": {
      "name": "python"
    }
  },
  "cells": [
    {
      "cell_type": "markdown",
      "metadata": {
        "id": "view-in-github",
        "colab_type": "text"
      },
      "source": [
        "<a href=\"https://colab.research.google.com/github/pcpiscator/DSAcademy/blob/main/Cap_13(Ex_)_Deep_Learning.ipynb\" target=\"_parent\"><img src=\"https://colab.research.google.com/assets/colab-badge.svg\" alt=\"Open In Colab\"/></a>"
      ]
    },
    {
      "cell_type": "code",
      "metadata": {
        "id": "rH9d_2HDNFY1"
      },
      "source": [
        "import numpy as np\n",
        "from matplotlib import pyplot as plt\n",
        "import pandas as pd\n",
        "import seaborn as sns\n",
        "import matplotlib.pyplot as plt\n",
        "from datetime import datetime\n",
        "from dateutil.parser import parse\n",
        "import sklearn \n",
        "%matplotlib inline"
      ],
      "execution_count": 5,
      "outputs": []
    },
    {
      "cell_type": "code",
      "metadata": {
        "id": "QlvVg8xgNLWj"
      },
      "source": [
        "class Network(object):\n",
        "  def _init_(self,sizes):\n",
        "    self.num_layers=len(sizes)\n",
        "    self.sizes=sizes\n",
        "    self. biases=[np.randon.randn(y,1) for y in sizes[1:]]\n",
        "    self.weights=[np.randon.randn(y,x) for x,y in zip(sizes[:-1], sizes[1:])] \n"
      ],
      "execution_count": 4,
      "outputs": []
    },
    {
      "cell_type": "code",
      "metadata": {
        "id": "_HonTzHMcklh"
      },
      "source": [
        "def sigmoid(z):\n",
        "  return 1.0/( 1.0 + np.exp(-z))"
      ],
      "execution_count": 8,
      "outputs": []
    }
  ]
}