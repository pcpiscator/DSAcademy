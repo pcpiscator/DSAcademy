{
  "nbformat": 4,
  "nbformat_minor": 0,
  "metadata": {
    "colab": {
      "name": "Listas.ipynb",
      "provenance": [],
      "authorship_tag": "ABX9TyP/2IdUjgkcQ66nWtsiJQpx",
      "include_colab_link": true
    },
    "kernelspec": {
      "name": "python3",
      "display_name": "Python 3"
    }
  },
  "cells": [
    {
      "cell_type": "markdown",
      "metadata": {
        "id": "view-in-github",
        "colab_type": "text"
      },
      "source": [
        "<a href=\"https://colab.research.google.com/github/pcpiscator/DSAcademy/blob/main/Listas.ipynb\" target=\"_parent\"><img src=\"https://colab.research.google.com/assets/colab-badge.svg\" alt=\"Open In Colab\"/></a>"
      ]
    },
    {
      "cell_type": "code",
      "metadata": {
        "id": "UkEustfNrDWc",
        "outputId": "a265f78f-15ae-4c20-e59d-d3c990941666",
        "colab": {
          "base_uri": "https://localhost:8080/"
        }
      },
      "source": [
        "# Versão da Linguagem Python\r\n",
        "from platform import python_version\r\n",
        "print('Versão da Linguagem Python Usada Neste Jupyter Notebook:', python_version())"
      ],
      "execution_count": 90,
      "outputs": [
        {
          "output_type": "stream",
          "text": [
            "Versão da Linguagem Python Usada Neste Jupyter Notebook: 3.6.9\n"
          ],
          "name": "stdout"
        }
      ]
    },
    {
      "cell_type": "markdown",
      "metadata": {
        "id": "XIiRGN1ZsSk8"
      },
      "source": [
        "**Listas**"
      ]
    },
    {
      "cell_type": "code",
      "metadata": {
        "id": "eTQACaODsVgk"
      },
      "source": [
        "# Criando uma lista\r\n",
        "listadomercado = [\"ovos, farinha, leite, maças\"]"
      ],
      "execution_count": 91,
      "outputs": []
    },
    {
      "cell_type": "code",
      "metadata": {
        "colab": {
          "base_uri": "https://localhost:8080/"
        },
        "id": "74LFwj-ksxOK",
        "outputId": "77f9e2f9-c554-4735-831d-5efd01a2cc54"
      },
      "source": [
        "# Imprimindo a lista\r\n",
        "print(listadomercado)"
      ],
      "execution_count": 8,
      "outputs": [
        {
          "output_type": "stream",
          "text": [
            "['ovos, farinha, leite, maças']\n"
          ],
          "name": "stdout"
        }
      ]
    },
    {
      "cell_type": "code",
      "metadata": {
        "id": "6Z5nEQqJtIeI"
      },
      "source": [
        "# Criando outra lista\r\n",
        "listadomercado2 = [\"ovos\", \"farinha\", \"leite\", \"maças\"]"
      ],
      "execution_count": 44,
      "outputs": []
    },
    {
      "cell_type": "code",
      "metadata": {
        "id": "KJYAJy2GtOpI"
      },
      "source": [
        "# Imprimindo a lista\r\n",
        "print(listadomercado2)"
      ],
      "execution_count": null,
      "outputs": []
    },
    {
      "cell_type": "code",
      "metadata": {
        "id": "CqWoxvi7t39s",
        "outputId": "d0d1b146-2db8-4ff4-c771-0d1854041d74",
        "colab": {
          "base_uri": "https://localhost:8080/",
          "height": 35
        }
      },
      "source": [
        "listadomercado[0]"
      ],
      "execution_count": 15,
      "outputs": [
        {
          "output_type": "execute_result",
          "data": {
            "application/vnd.google.colaboratory.intrinsic+json": {
              "type": "string"
            },
            "text/plain": [
              "'ovos, farinha, leite, maças'"
            ]
          },
          "metadata": {
            "tags": []
          },
          "execution_count": 15
        }
      ]
    },
    {
      "cell_type": "code",
      "metadata": {
        "id": "xx_QCovD0Ioz",
        "outputId": "7ae3e049-6bff-4b32-d175-1b2c4908163b",
        "colab": {
          "base_uri": "https://localhost:8080/",
          "height": 163
        }
      },
      "source": [
        "listadomercado[3]"
      ],
      "execution_count": 16,
      "outputs": [
        {
          "output_type": "error",
          "ename": "IndexError",
          "evalue": "ignored",
          "traceback": [
            "\u001b[0;31m---------------------------------------------------------------------------\u001b[0m",
            "\u001b[0;31mIndexError\u001b[0m                                Traceback (most recent call last)",
            "\u001b[0;32m<ipython-input-16-04e3cf20f27a>\u001b[0m in \u001b[0;36m<module>\u001b[0;34m()\u001b[0m\n\u001b[0;32m----> 1\u001b[0;31m \u001b[0mlistadomercado\u001b[0m\u001b[0;34m[\u001b[0m\u001b[0;36m3\u001b[0m\u001b[0;34m]\u001b[0m\u001b[0;34m\u001b[0m\u001b[0;34m\u001b[0m\u001b[0m\n\u001b[0m",
            "\u001b[0;31mIndexError\u001b[0m: list index out of range"
          ]
        }
      ]
    },
    {
      "cell_type": "code",
      "metadata": {
        "id": "d5la3bi1uIpv",
        "outputId": "4349b74c-ea08-48fb-de43-1a49f7f2c931",
        "colab": {
          "base_uri": "https://localhost:8080/",
          "height": 35
        }
      },
      "source": [
        "listadomercado2[0]"
      ],
      "execution_count": 18,
      "outputs": [
        {
          "output_type": "execute_result",
          "data": {
            "application/vnd.google.colaboratory.intrinsic+json": {
              "type": "string"
            },
            "text/plain": [
              "'ovos'"
            ]
          },
          "metadata": {
            "tags": []
          },
          "execution_count": 18
        }
      ]
    },
    {
      "cell_type": "code",
      "metadata": {
        "id": "yTJcgX_u0YaM",
        "outputId": "f818aa94-925f-4a7b-a895-35db3d1f9f3f",
        "colab": {
          "base_uri": "https://localhost:8080/",
          "height": 35
        }
      },
      "source": [
        "listadomercado2[3]"
      ],
      "execution_count": 23,
      "outputs": [
        {
          "output_type": "execute_result",
          "data": {
            "application/vnd.google.colaboratory.intrinsic+json": {
              "type": "string"
            },
            "text/plain": [
              "'maças'"
            ]
          },
          "metadata": {
            "tags": []
          },
          "execution_count": 23
        }
      ]
    },
    {
      "cell_type": "code",
      "metadata": {
        "id": "KbWemZ7t01x5"
      },
      "source": [
        "# Criando lista\r\n",
        "lista3 = [12, 100, \"Universidade\"]"
      ],
      "execution_count": 20,
      "outputs": []
    },
    {
      "cell_type": "code",
      "metadata": {
        "id": "J-fcylej04X_",
        "outputId": "b879a248-07d7-4b77-d5a4-c24bd79b087e",
        "colab": {
          "base_uri": "https://localhost:8080/"
        }
      },
      "source": [
        "# Imprimindo\r\n",
        "print(lista3)"
      ],
      "execution_count": 21,
      "outputs": [
        {
          "output_type": "stream",
          "text": [
            "[12, 100, 'Universidade']\n"
          ],
          "name": "stdout"
        }
      ]
    },
    {
      "cell_type": "code",
      "metadata": {
        "id": "L6uCYJVR1Jrx"
      },
      "source": [
        "# Atribuindo cada valor da lista a uma variável.\r\n",
        "item1 = lista3[0]\r\n",
        "item2 = lista3[1]\r\n",
        "item3 = lista3[2]"
      ],
      "execution_count": 24,
      "outputs": []
    },
    {
      "cell_type": "code",
      "metadata": {
        "id": "R6j5_4y21eZC",
        "outputId": "d11e21f9-85a3-424e-9a0a-f2d2707b7097",
        "colab": {
          "base_uri": "https://localhost:8080/"
        }
      },
      "source": [
        "# Imprimindo as variáveis\r\n",
        "print(item1, item2, item3)"
      ],
      "execution_count": 25,
      "outputs": [
        {
          "output_type": "stream",
          "text": [
            "12 100 Universidade\n"
          ],
          "name": "stdout"
        }
      ]
    },
    {
      "cell_type": "markdown",
      "metadata": {
        "id": "AziyjCQQ12hM"
      },
      "source": [
        "**Atualizando um item da lista**"
      ]
    },
    {
      "cell_type": "code",
      "metadata": {
        "id": "d0FmEte618Cq",
        "outputId": "bf422024-0514-452b-f83b-d446e4352bc6",
        "colab": {
          "base_uri": "https://localhost:8080/",
          "height": 35
        }
      },
      "source": [
        "# Imprimindo um item da lista\r\n",
        "listadomercado2[2]"
      ],
      "execution_count": 26,
      "outputs": [
        {
          "output_type": "execute_result",
          "data": {
            "application/vnd.google.colaboratory.intrinsic+json": {
              "type": "string"
            },
            "text/plain": [
              "'leite'"
            ]
          },
          "metadata": {
            "tags": []
          },
          "execution_count": 26
        }
      ]
    },
    {
      "cell_type": "code",
      "metadata": {
        "id": "pLodyGRs2TuI"
      },
      "source": [
        "# Atualizando um item da lista\r\n",
        "listadomercado2[2] = \"chocolate\""
      ],
      "execution_count": 27,
      "outputs": []
    },
    {
      "cell_type": "code",
      "metadata": {
        "id": "bKEBlgqf2W5h",
        "outputId": "0e5597b2-02b2-4ace-b537-a8274f2f9d47",
        "colab": {
          "base_uri": "https://localhost:8080/"
        }
      },
      "source": [
        "# Imprimindo lista alterada\r\n",
        "listadomercado2"
      ],
      "execution_count": 34,
      "outputs": [
        {
          "output_type": "execute_result",
          "data": {
            "text/plain": [
              "['ovos', 'farinha', 'chocolate']"
            ]
          },
          "metadata": {
            "tags": []
          },
          "execution_count": 34
        }
      ]
    },
    {
      "cell_type": "markdown",
      "metadata": {
        "id": "IFD11ZRpBfIW"
      },
      "source": [
        "**Deletando um item da lista**"
      ]
    },
    {
      "cell_type": "code",
      "metadata": {
        "id": "-u7Xyl86Bnzv"
      },
      "source": [
        "# Out of index. Não é possível deletar um item que não existe na lista\r\n",
        "del listadomercado2[4]"
      ],
      "execution_count": null,
      "outputs": []
    },
    {
      "cell_type": "code",
      "metadata": {
        "id": "-DLwBh5BBASG"
      },
      "source": [
        "# Deletando um item específico da lista\r\n",
        "del listadomercado2[3]"
      ],
      "execution_count": null,
      "outputs": []
    },
    {
      "cell_type": "markdown",
      "metadata": {
        "id": "8HH9n6fgAvoA"
      },
      "source": [
        "**Listas de listas (Listas aninhadas)**"
      ]
    },
    {
      "cell_type": "code",
      "metadata": {
        "id": "GQQQz979Dy2i"
      },
      "source": [
        "# Criando uma lista de listas\r\n",
        "listas = [[1,2,3], [10,15,14], [10.1,8.7,2.3]]"
      ],
      "execution_count": 53,
      "outputs": []
    },
    {
      "cell_type": "code",
      "metadata": {
        "id": "DgLPI_IJD1Sy"
      },
      "source": [
        "# Imprimindo a lista\r\n",
        "listas"
      ],
      "execution_count": null,
      "outputs": []
    },
    {
      "cell_type": "code",
      "metadata": {
        "id": "izKhA9OHD8eI"
      },
      "source": [
        "# Atribuindo um item da lista a uma variável\r\n",
        "a = listas[0]"
      ],
      "execution_count": 55,
      "outputs": []
    },
    {
      "cell_type": "code",
      "metadata": {
        "id": "CnvKpI7BEERC"
      },
      "source": [
        "a"
      ],
      "execution_count": null,
      "outputs": []
    },
    {
      "cell_type": "code",
      "metadata": {
        "id": "-okfr5WpELCz"
      },
      "source": [
        "b = a[0]"
      ],
      "execution_count": 58,
      "outputs": []
    },
    {
      "cell_type": "code",
      "metadata": {
        "id": "mwY6C2FLEQGy"
      },
      "source": [
        "b"
      ],
      "execution_count": null,
      "outputs": []
    },
    {
      "cell_type": "code",
      "metadata": {
        "id": "wISewnwAEktS"
      },
      "source": [
        "list1 = listas[1]"
      ],
      "execution_count": 60,
      "outputs": []
    },
    {
      "cell_type": "code",
      "metadata": {
        "id": "ZlyblK2xEnOg",
        "outputId": "b9517eeb-c377-426a-944e-1d10eeabf42e",
        "colab": {
          "base_uri": "https://localhost:8080/"
        }
      },
      "source": [
        "list1"
      ],
      "execution_count": 61,
      "outputs": [
        {
          "output_type": "execute_result",
          "data": {
            "text/plain": [
              "[10, 15, 14]"
            ]
          },
          "metadata": {
            "tags": []
          },
          "execution_count": 61
        }
      ]
    },
    {
      "cell_type": "code",
      "metadata": {
        "id": "kWbpEvsXFBpE"
      },
      "source": [
        "list1[0]"
      ],
      "execution_count": null,
      "outputs": []
    },
    {
      "cell_type": "code",
      "metadata": {
        "id": "CbtAUObOE0d2"
      },
      "source": [
        "valor_1_0 = list1[0]"
      ],
      "execution_count": 62,
      "outputs": []
    },
    {
      "cell_type": "code",
      "metadata": {
        "id": "Sd-EpF1sE1u8"
      },
      "source": [
        "valor_1_0"
      ],
      "execution_count": null,
      "outputs": []
    },
    {
      "cell_type": "code",
      "metadata": {
        "id": "mGQMt7oQFOnS"
      },
      "source": [
        "valor_1_2 = list1[2]"
      ],
      "execution_count": 66,
      "outputs": []
    },
    {
      "cell_type": "code",
      "metadata": {
        "id": "AvjsUyRcFPJe",
        "outputId": "e35f778e-7785-4fa0-e072-68baaa767208",
        "colab": {
          "base_uri": "https://localhost:8080/"
        }
      },
      "source": [
        "valor_1_2"
      ],
      "execution_count": 67,
      "outputs": [
        {
          "output_type": "execute_result",
          "data": {
            "text/plain": [
              "14"
            ]
          },
          "metadata": {
            "tags": []
          },
          "execution_count": 67
        }
      ]
    },
    {
      "cell_type": "code",
      "metadata": {
        "id": "Ycmvx-GSFZDQ"
      },
      "source": [
        "list2 = listas[2]"
      ],
      "execution_count": 68,
      "outputs": []
    },
    {
      "cell_type": "code",
      "metadata": {
        "id": "liO6JYkXFa9M"
      },
      "source": [
        "list2 "
      ],
      "execution_count": null,
      "outputs": []
    },
    {
      "cell_type": "code",
      "metadata": {
        "id": "htf4PkEJFljI"
      },
      "source": [
        "valor_2_0 = list2[0]"
      ],
      "execution_count": 70,
      "outputs": []
    },
    {
      "cell_type": "code",
      "metadata": {
        "id": "qyiQVBjXFmGh"
      },
      "source": [
        "valor_2_0 "
      ],
      "execution_count": null,
      "outputs": []
    },
    {
      "cell_type": "markdown",
      "metadata": {
        "id": "TSGqiTpQFwD_"
      },
      "source": [
        "**Operações com listas**"
      ]
    },
    {
      "cell_type": "code",
      "metadata": {
        "id": "eoiov7a6F2BG"
      },
      "source": [
        "# Criando uma lista aninhada (lista de listas)\r\n",
        "listas = [[1,2,3], [10,15,14], [10.1,8.7,2.3]]"
      ],
      "execution_count": 2,
      "outputs": []
    },
    {
      "cell_type": "code",
      "metadata": {
        "id": "wQWZXG3vdPWb"
      },
      "source": [
        "\r\n",
        "listas "
      ],
      "execution_count": null,
      "outputs": []
    },
    {
      "cell_type": "code",
      "metadata": {
        "id": "9xBblhKadbJl"
      },
      "source": [
        "# Atribuindo à variável a, o primeiro valor da primeira lista\r\n",
        "a = listas[0][0]"
      ],
      "execution_count": 4,
      "outputs": []
    },
    {
      "cell_type": "code",
      "metadata": {
        "id": "c4IGX8p0dd0g"
      },
      "source": [
        "a"
      ],
      "execution_count": null,
      "outputs": []
    },
    {
      "cell_type": "code",
      "metadata": {
        "id": "Vg_txDVVdiWw"
      },
      "source": [
        "b = listas[1][2]"
      ],
      "execution_count": 6,
      "outputs": []
    },
    {
      "cell_type": "code",
      "metadata": {
        "id": "KiqBCZjFdnDM"
      },
      "source": [
        "b"
      ],
      "execution_count": null,
      "outputs": []
    },
    {
      "cell_type": "code",
      "metadata": {
        "id": "sq-dTG6od7k-"
      },
      "source": [
        "c = listas[0][2] + 10"
      ],
      "execution_count": 10,
      "outputs": []
    },
    {
      "cell_type": "code",
      "metadata": {
        "id": "FnLOSzl5d8Be",
        "outputId": "d6f18053-8448-43f0-8ed2-81c8c75881ad",
        "colab": {
          "base_uri": "https://localhost:8080/"
        }
      },
      "source": [
        "c"
      ],
      "execution_count": 12,
      "outputs": [
        {
          "output_type": "execute_result",
          "data": {
            "text/plain": [
              "13"
            ]
          },
          "metadata": {
            "tags": []
          },
          "execution_count": 12
        }
      ]
    },
    {
      "cell_type": "code",
      "metadata": {
        "id": "WCJEYTupeIfO"
      },
      "source": [
        "d = 10"
      ],
      "execution_count": 15,
      "outputs": []
    },
    {
      "cell_type": "code",
      "metadata": {
        "id": "OacI_QpheJCO"
      },
      "source": [
        "d"
      ],
      "execution_count": null,
      "outputs": []
    },
    {
      "cell_type": "code",
      "metadata": {
        "id": "k7SVSlzqedYn"
      },
      "source": [
        "e = d * listas[2][0]"
      ],
      "execution_count": 18,
      "outputs": []
    },
    {
      "cell_type": "code",
      "metadata": {
        "id": "NYdOtW0Ded9V"
      },
      "source": [
        "e"
      ],
      "execution_count": null,
      "outputs": []
    },
    {
      "cell_type": "markdown",
      "metadata": {
        "id": "IW8LM1vYfI9r"
      },
      "source": [
        "**Concatenando listas**"
      ]
    },
    {
      "cell_type": "code",
      "metadata": {
        "id": "hrFBxkALfM17"
      },
      "source": [
        "lista_s1 = [34, 32, 56]"
      ],
      "execution_count": 23,
      "outputs": []
    },
    {
      "cell_type": "code",
      "metadata": {
        "id": "3R4-731FfNue"
      },
      "source": [
        "lista_s1 "
      ],
      "execution_count": null,
      "outputs": []
    },
    {
      "cell_type": "code",
      "metadata": {
        "id": "wB_zjLm2fcIE"
      },
      "source": [
        "lista_s2 = [21, 90, 51]"
      ],
      "execution_count": 27,
      "outputs": []
    },
    {
      "cell_type": "code",
      "metadata": {
        "id": "zQuSiao9fb4t",
        "outputId": "e56f8351-4f8f-4384-ac23-32b3d6dcba24",
        "colab": {
          "base_uri": "https://localhost:8080/"
        }
      },
      "source": [
        "lista_s2 "
      ],
      "execution_count": 28,
      "outputs": [
        {
          "output_type": "execute_result",
          "data": {
            "text/plain": [
              "[21, 90, 51]"
            ]
          },
          "metadata": {
            "tags": []
          },
          "execution_count": 28
        }
      ]
    },
    {
      "cell_type": "code",
      "metadata": {
        "id": "8RTpbc37fopY"
      },
      "source": [
        "# Concatenando listas\r\n",
        "lista_total = lista_s1 + lista_s2"
      ],
      "execution_count": 29,
      "outputs": []
    },
    {
      "cell_type": "code",
      "metadata": {
        "id": "oi74fwzZfocq"
      },
      "source": [
        "# Concatenando listas\r\n",
        "lista_total"
      ],
      "execution_count": null,
      "outputs": []
    },
    {
      "cell_type": "markdown",
      "metadata": {
        "id": "y2NTofHUgB9-"
      },
      "source": [
        "**Operador in**"
      ]
    },
    {
      "cell_type": "code",
      "metadata": {
        "id": "hERF1UY_f9nY"
      },
      "source": [
        "# Criando uma lista\r\n",
        "lista_teste_op = [100, 2, -5, 3.4]"
      ],
      "execution_count": 31,
      "outputs": []
    },
    {
      "cell_type": "code",
      "metadata": {
        "id": "RmfIeoPkf9Zz"
      },
      "source": [
        "# Verificando se o valor 10 pertence a lista\r\n",
        "print(10 in lista_teste_op)"
      ],
      "execution_count": null,
      "outputs": []
    },
    {
      "cell_type": "code",
      "metadata": {
        "id": "q0YG-v5fgiD2"
      },
      "source": [
        "# Verificando se o valor 100 pertence a lista\r\n",
        "print(100 in lista_teste_op)"
      ],
      "execution_count": null,
      "outputs": []
    },
    {
      "cell_type": "markdown",
      "metadata": {
        "id": "xMsxVgyZgwly"
      },
      "source": [
        "**Funções Built-in**"
      ]
    },
    {
      "cell_type": "code",
      "metadata": {
        "id": "ve02NvPAgh3U"
      },
      "source": [
        "# Função len() retorna o comprimento da lista\r\n",
        "len(lista_teste_op)"
      ],
      "execution_count": null,
      "outputs": []
    },
    {
      "cell_type": "code",
      "metadata": {
        "id": "JTUDoDTKg-xm"
      },
      "source": [
        "# Função max() retorna o valor máximo da lista\r\n",
        "max(lista_teste_op)"
      ],
      "execution_count": null,
      "outputs": []
    },
    {
      "cell_type": "code",
      "metadata": {
        "id": "wgpDq2mJg-ju"
      },
      "source": [
        "# Função min() retorna o valor máximo da lista\r\n",
        "min(lista_teste_op)"
      ],
      "execution_count": null,
      "outputs": []
    },
    {
      "cell_type": "code",
      "metadata": {
        "id": "1WlVCZQ0hNz4"
      },
      "source": [
        "# Criando uma lista\r\n",
        "listadomercado2 = [\"ovos\", \"farinha\", \"leite\", \"maças\"]"
      ],
      "execution_count": 37,
      "outputs": []
    },
    {
      "cell_type": "code",
      "metadata": {
        "id": "Ru1SBaqshNq7"
      },
      "source": [
        "# Adicionando um item à lista\r\n",
        "listadomercado2.append(\"carne\")"
      ],
      "execution_count": 38,
      "outputs": []
    },
    {
      "cell_type": "code",
      "metadata": {
        "id": "gHAqBvvUhl3c"
      },
      "source": [
        "listadomercado2"
      ],
      "execution_count": null,
      "outputs": []
    },
    {
      "cell_type": "code",
      "metadata": {
        "id": "9wwlHCRMhlsj"
      },
      "source": [
        "listadomercado2.append(\"carne\")"
      ],
      "execution_count": 41,
      "outputs": []
    },
    {
      "cell_type": "code",
      "metadata": {
        "id": "SkhyptnbiMCe"
      },
      "source": [
        "listadomercado2"
      ],
      "execution_count": null,
      "outputs": []
    },
    {
      "cell_type": "code",
      "metadata": {
        "id": "vWlIb0A8ieOC"
      },
      "source": [
        "listadomercado2.count(\"carne\")"
      ],
      "execution_count": null,
      "outputs": []
    },
    {
      "cell_type": "code",
      "metadata": {
        "id": "DeTnZXuMirBP"
      },
      "source": [
        "# Criando uma lista vazia\r\n",
        "a = []"
      ],
      "execution_count": 44,
      "outputs": []
    },
    {
      "cell_type": "code",
      "metadata": {
        "id": "Xv3qNyb-iqsf"
      },
      "source": [
        "print(a)"
      ],
      "execution_count": null,
      "outputs": []
    },
    {
      "cell_type": "code",
      "metadata": {
        "id": "MbLRpZIbi0yF"
      },
      "source": [
        "type(a)"
      ],
      "execution_count": null,
      "outputs": []
    },
    {
      "cell_type": "code",
      "metadata": {
        "id": "MKR3a3vqi5U_"
      },
      "source": [
        "a.append(10)"
      ],
      "execution_count": 47,
      "outputs": []
    },
    {
      "cell_type": "code",
      "metadata": {
        "id": "4EHSoCXOi5G-"
      },
      "source": [
        "a"
      ],
      "execution_count": null,
      "outputs": []
    },
    {
      "cell_type": "code",
      "metadata": {
        "id": "FWl0Jpi7jFH-"
      },
      "source": [
        "a.append(50)"
      ],
      "execution_count": 50,
      "outputs": []
    },
    {
      "cell_type": "code",
      "metadata": {
        "id": "Yz46erwEjmvg"
      },
      "source": [
        "a"
      ],
      "execution_count": null,
      "outputs": []
    },
    {
      "cell_type": "code",
      "metadata": {
        "id": "9v3hSmeqjwmF"
      },
      "source": [
        "old_list = [1,2,5,10]"
      ],
      "execution_count": 53,
      "outputs": []
    },
    {
      "cell_type": "code",
      "metadata": {
        "id": "QRGkliEwjwcK"
      },
      "source": [
        "new_list = []"
      ],
      "execution_count": 54,
      "outputs": []
    },
    {
      "cell_type": "code",
      "metadata": {
        "id": "4DJjQi33jvu-"
      },
      "source": [
        "# Copiando os itens de uma lista para outra\r\n",
        "for item in old_list:\r\n",
        "    new_list.append(item)"
      ],
      "execution_count": 55,
      "outputs": []
    },
    {
      "cell_type": "code",
      "metadata": {
        "id": "O0rNrdjnjvkO"
      },
      "source": [
        "\r\n",
        "new_list"
      ],
      "execution_count": null,
      "outputs": []
    },
    {
      "cell_type": "code",
      "metadata": {
        "id": "HUXq2ZlokRdj"
      },
      "source": [
        "c = [20,30]"
      ],
      "execution_count": 58,
      "outputs": []
    },
    {
      "cell_type": "code",
      "metadata": {
        "id": "I8Uw7Z0wkRVe"
      },
      "source": [
        "c.append(60)"
      ],
      "execution_count": 59,
      "outputs": []
    },
    {
      "cell_type": "code",
      "metadata": {
        "id": "sGDrHIS5kRNs"
      },
      "source": [
        "c"
      ],
      "execution_count": null,
      "outputs": []
    },
    {
      "cell_type": "code",
      "metadata": {
        "id": "400rY-tQlVXA"
      },
      "source": [
        "c.append(70)"
      ],
      "execution_count": 62,
      "outputs": []
    },
    {
      "cell_type": "code",
      "metadata": {
        "id": "Oqvx8b56lwmF"
      },
      "source": [
        "print (c)"
      ],
      "execution_count": null,
      "outputs": []
    },
    {
      "cell_type": "code",
      "metadata": {
        "id": "9_0Ji7TIlVJK"
      },
      "source": [
        "c"
      ],
      "execution_count": null,
      "outputs": []
    },
    {
      "cell_type": "code",
      "metadata": {
        "id": "fXiG9Ld-kRFC"
      },
      "source": [
        "c.count(20)"
      ],
      "execution_count": null,
      "outputs": []
    },
    {
      "cell_type": "code",
      "metadata": {
        "id": "4uaNej-MleeC",
        "outputId": "cbacffba-0947-4817-9694-2b22c85b9974",
        "colab": {
          "base_uri": "https://localhost:8080/"
        }
      },
      "source": [
        "cidades = ['Recife', 'Manaus', 'Salvador']\r\n",
        "cidades.extend(['Fortaleza', 'Palmas'])\r\n",
        "print (cidades)"
      ],
      "execution_count": 65,
      "outputs": [
        {
          "output_type": "stream",
          "text": [
            "['Recife', 'Manaus', 'Salvador', 'Fortaleza', 'Palmas']\n"
          ],
          "name": "stdout"
        }
      ]
    },
    {
      "cell_type": "code",
      "metadata": {
        "id": "QRHyN5XUleU1"
      },
      "source": [
        "cidades.index('Salvador')"
      ],
      "execution_count": null,
      "outputs": []
    },
    {
      "cell_type": "markdown",
      "metadata": {
        "id": "R6PpWyH6mGIb"
      },
      "source": [
        "Lembre-se: em Python o índice começa por 0!"
      ]
    },
    {
      "cell_type": "code",
      "metadata": {
        "id": "JUlHMGynleNe"
      },
      "source": [
        "cidades.index('Rio de Janeiro')"
      ],
      "execution_count": null,
      "outputs": []
    },
    {
      "cell_type": "code",
      "metadata": {
        "id": "yJ048fAKleGJ"
      },
      "source": [
        "cidades"
      ],
      "execution_count": null,
      "outputs": []
    },
    {
      "cell_type": "code",
      "metadata": {
        "id": "BYipIzt2mTyu"
      },
      "source": [
        "cidades.insert(2, 110)"
      ],
      "execution_count": 71,
      "outputs": []
    },
    {
      "cell_type": "code",
      "metadata": {
        "id": "0p1JlV4DmTmj"
      },
      "source": [
        "cidades"
      ],
      "execution_count": null,
      "outputs": []
    },
    {
      "cell_type": "code",
      "metadata": {
        "id": "Bnzsj-NbmTj_"
      },
      "source": [
        "# Remove um item da lista\r\n",
        "cidades.remove(110)"
      ],
      "execution_count": 73,
      "outputs": []
    },
    {
      "cell_type": "code",
      "metadata": {
        "id": "rXsJ08xamTYn",
        "outputId": "b3e0f0a0-f653-4989-9567-a6adf5e31155",
        "colab": {
          "base_uri": "https://localhost:8080/"
        }
      },
      "source": [
        "cidades"
      ],
      "execution_count": 83,
      "outputs": [
        {
          "output_type": "execute_result",
          "data": {
            "text/plain": [
              "['Recife', 'Manaus', 'Salvador', 'Fortaleza', 'Palmas']"
            ]
          },
          "metadata": {
            "tags": []
          },
          "execution_count": 83
        }
      ]
    },
    {
      "cell_type": "code",
      "metadata": {
        "id": "1zybI2T1m1Q5"
      },
      "source": [
        "# Reverte a lista\r\n",
        "cidades.reverse()"
      ],
      "execution_count": 84,
      "outputs": []
    },
    {
      "cell_type": "code",
      "metadata": {
        "id": "siXPvbNUm1Jm",
        "outputId": "77fa5170-4a84-488b-e5e0-9d042ab1f043",
        "colab": {
          "base_uri": "https://localhost:8080/"
        }
      },
      "source": [
        "cidades"
      ],
      "execution_count": 85,
      "outputs": [
        {
          "output_type": "execute_result",
          "data": {
            "text/plain": [
              "['Palmas', 'Fortaleza', 'Salvador', 'Manaus', 'Recife']"
            ]
          },
          "metadata": {
            "tags": []
          },
          "execution_count": 85
        }
      ]
    },
    {
      "cell_type": "code",
      "metadata": {
        "id": "AjP8uIUjm0xI"
      },
      "source": [
        "x = [3, 4, 2, 1]"
      ],
      "execution_count": 86,
      "outputs": []
    },
    {
      "cell_type": "code",
      "metadata": {
        "id": "IH44vQeTm0pW",
        "outputId": "3ce562ac-8282-4c34-be63-e899cf5223cf",
        "colab": {
          "base_uri": "https://localhost:8080/"
        }
      },
      "source": [
        "x"
      ],
      "execution_count": 87,
      "outputs": [
        {
          "output_type": "execute_result",
          "data": {
            "text/plain": [
              "[3, 4, 2, 1]"
            ]
          },
          "metadata": {
            "tags": []
          },
          "execution_count": 87
        }
      ]
    },
    {
      "cell_type": "code",
      "metadata": {
        "id": "hoKj2dbWsMCp"
      },
      "source": [
        "# Ordena a lista\r\n",
        "x.sort()"
      ],
      "execution_count": 88,
      "outputs": []
    },
    {
      "cell_type": "code",
      "metadata": {
        "id": "m_JKctc6sL-l",
        "outputId": "ec15ca5b-d976-4589-ba44-1205731d1dc3",
        "colab": {
          "base_uri": "https://localhost:8080/"
        }
      },
      "source": [
        "x"
      ],
      "execution_count": 89,
      "outputs": [
        {
          "output_type": "execute_result",
          "data": {
            "text/plain": [
              "[1, 2, 3, 4]"
            ]
          },
          "metadata": {
            "tags": []
          },
          "execution_count": 89
        }
      ]
    },
    {
      "cell_type": "markdown",
      "metadata": {
        "id": "urI4-FsQsTxG"
      },
      "source": [
        "**Fim**\r\n",
        "\r\n",
        "**Obrigado-Data Science Academy**"
      ]
    }
  ]
}