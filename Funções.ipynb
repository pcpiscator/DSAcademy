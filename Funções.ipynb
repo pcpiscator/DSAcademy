{
  "nbformat": 4,
  "nbformat_minor": 0,
  "metadata": {
    "colab": {
      "name": "Funções.ipynb",
      "provenance": [],
      "authorship_tag": "ABX9TyPN8ZijK2IcAJXEFNALJpaD",
      "include_colab_link": true
    },
    "kernelspec": {
      "name": "python3",
      "display_name": "Python 3"
    }
  },
  "cells": [
    {
      "cell_type": "markdown",
      "metadata": {
        "id": "view-in-github",
        "colab_type": "text"
      },
      "source": [
        "<a href=\"https://colab.research.google.com/github/pcpiscator/DSAcademy/blob/main/Fun%C3%A7%C3%B5es.ipynb\" target=\"_parent\"><img src=\"https://colab.research.google.com/assets/colab-badge.svg\" alt=\"Open In Colab\"/></a>"
      ]
    },
    {
      "cell_type": "code",
      "metadata": {
        "colab": {
          "base_uri": "https://localhost:8080/"
        },
        "id": "LVV1w3NLm8HR",
        "outputId": "962e5616-e63a-4f2e-ecde-01c2905d5442"
      },
      "source": [
        "# Versão da Linguagem Python\r\n",
        "from platform import python_version\r\n",
        "print('Versão da Linguagem Python Usada Neste Jupyter Notebook:', python_version())"
      ],
      "execution_count": 1,
      "outputs": [
        {
          "output_type": "stream",
          "text": [
            "Versão da Linguagem Python Usada Neste Jupyter Notebook: 3.6.9\n"
          ],
          "name": "stdout"
        }
      ]
    },
    {
      "cell_type": "markdown",
      "metadata": {
        "id": "hGFiS0aBnNPi"
      },
      "source": [
        "# **Funções**"
      ]
    },
    {
      "cell_type": "code",
      "metadata": {
        "id": "7AUhJzQ-nIvy"
      },
      "source": [
        "# Definindo uma função\r\n",
        "def primeiraFunc():\r\n",
        "    print('Hello World')"
      ],
      "execution_count": null,
      "outputs": []
    },
    {
      "cell_type": "code",
      "metadata": {
        "colab": {
          "base_uri": "https://localhost:8080/"
        },
        "id": "5q-IyBeUnXXd",
        "outputId": "1a27e562-ca82-48e5-f495-4fb5dbbf757f"
      },
      "source": [
        "primeiraFunc()"
      ],
      "execution_count": null,
      "outputs": [
        {
          "output_type": "stream",
          "text": [
            "Hello World\n"
          ],
          "name": "stdout"
        }
      ]
    },
    {
      "cell_type": "code",
      "metadata": {
        "id": "0W3qHuS2nbb7"
      },
      "source": [
        "# Definindo uma função com parâmetro- obs.: mudou o código, mudou a função.\r\n",
        "def primeiraFunc(nome):\r\n",
        "    print('Hello %s' %(nome))"
      ],
      "execution_count": null,
      "outputs": []
    },
    {
      "cell_type": "code",
      "metadata": {
        "colab": {
          "base_uri": "https://localhost:8080/"
        },
        "id": "N6kKUogsp26Y",
        "outputId": "077e0167-962d-4d06-f6c6-e6f7cf067105"
      },
      "source": [
        "primeiraFunc(\"My friends in Brazil!\")"
      ],
      "execution_count": null,
      "outputs": [
        {
          "output_type": "stream",
          "text": [
            "Hello My friends in Brazil!\n"
          ],
          "name": "stdout"
        }
      ]
    },
    {
      "cell_type": "code",
      "metadata": {
        "id": "T_yjMs2eqaAp"
      },
      "source": [
        "def funcLeitura():\r\n",
        "    for i in range(0, 5):\r\n",
        "        print(\"Número \" + str(i))"
      ],
      "execution_count": null,
      "outputs": []
    },
    {
      "cell_type": "code",
      "metadata": {
        "id": "ZXIuQvAtqd_r"
      },
      "source": [
        "funcLeitura()"
      ],
      "execution_count": null,
      "outputs": []
    },
    {
      "cell_type": "code",
      "metadata": {
        "id": "Mv-TSzpLTHX9"
      },
      "source": [
        "# Função para somar números\r\n",
        "def addNum(firstnum, secondnum):\r\n",
        "    print(\"Primeiro número: \" + str(firstnum))\r\n",
        "    print(\"Segundo número: \" + str(secondnum))\r\n",
        "    print(\"Soma: \", firstnum + secondnum)"
      ],
      "execution_count": null,
      "outputs": []
    },
    {
      "cell_type": "code",
      "metadata": {
        "colab": {
          "base_uri": "https://localhost:8080/"
        },
        "id": "hF_1-FiITipl",
        "outputId": "75329121-9880-4ae1-e3f9-8214c388aba2"
      },
      "source": [
        "addNum(10, 5)"
      ],
      "execution_count": null,
      "outputs": [
        {
          "output_type": "stream",
          "text": [
            "Primeiro número: 10\n",
            "Segundo número: 5\n",
            "Soma:  15\n"
          ],
          "name": "stdout"
        }
      ]
    },
    {
      "cell_type": "code",
      "metadata": {
        "colab": {
          "base_uri": "https://localhost:8080/"
        },
        "id": "B_g3WHkeU8ca",
        "outputId": "ae9d2468-54dc-49e1-f820-01a37e5df563"
      },
      "source": [
        "# Adicionada por mim\r\n",
        "\r\n",
        "temperatura = int(input('Qual a temperatura? '))\r\n",
        "if temperatura > 30:\r\n",
        "   print('Vista roupas leves.')\r\n",
        "else:\r\n",
        "    print('Busque seus casacos.')"
      ],
      "execution_count": null,
      "outputs": [
        {
          "output_type": "stream",
          "text": [
            "Qual a temperatura? 46\n",
            "Vista roupas leves.\n"
          ],
          "name": "stdout"
        }
      ]
    },
    {
      "cell_type": "code",
      "metadata": {
        "colab": {
          "base_uri": "https://localhost:8080/"
        },
        "id": "2orx1zEOfXJE",
        "outputId": "55a067f2-2df5-4898-c43e-1cc6a8aa24a4"
      },
      "source": [
        "temperatura"
      ],
      "execution_count": null,
      "outputs": [
        {
          "output_type": "execute_result",
          "data": {
            "text/plain": [
              "46"
            ]
          },
          "metadata": {
            "tags": []
          },
          "execution_count": 58
        }
      ]
    },
    {
      "cell_type": "code",
      "metadata": {
        "colab": {
          "base_uri": "https://localhost:8080/",
          "height": 248
        },
        "id": "gFE5DWWQksed",
        "outputId": "b192ef9e-d874-4209-b6c9-d0c7ddd39818"
      },
      "source": [
        "#conflito entre str e int\r\n",
        "\r\n",
        "temperatura = (input('Qual a temperatura? '))\r\n",
        "if temperatura > 30:\r\n",
        "   print('Vista roupas leves.')\r\n",
        "else:\r\n",
        "    print('Busque seus casacos.')"
      ],
      "execution_count": null,
      "outputs": [
        {
          "output_type": "stream",
          "text": [
            "Qual a temperatura? 31\n"
          ],
          "name": "stdout"
        },
        {
          "output_type": "error",
          "ename": "TypeError",
          "evalue": "ignored",
          "traceback": [
            "\u001b[0;31m---------------------------------------------------------------------------\u001b[0m",
            "\u001b[0;31mTypeError\u001b[0m                                 Traceback (most recent call last)",
            "\u001b[0;32m<ipython-input-59-5babe81821bb>\u001b[0m in \u001b[0;36m<module>\u001b[0;34m()\u001b[0m\n\u001b[1;32m      2\u001b[0m \u001b[0;34m\u001b[0m\u001b[0m\n\u001b[1;32m      3\u001b[0m \u001b[0mtemperatura\u001b[0m \u001b[0;34m=\u001b[0m \u001b[0;34m(\u001b[0m\u001b[0minput\u001b[0m\u001b[0;34m(\u001b[0m\u001b[0;34m'Qual a temperatura? '\u001b[0m\u001b[0;34m)\u001b[0m\u001b[0;34m)\u001b[0m\u001b[0;34m\u001b[0m\u001b[0;34m\u001b[0m\u001b[0m\n\u001b[0;32m----> 4\u001b[0;31m \u001b[0;32mif\u001b[0m \u001b[0mtemperatura\u001b[0m \u001b[0;34m>\u001b[0m \u001b[0;36m30\u001b[0m\u001b[0;34m:\u001b[0m\u001b[0;34m\u001b[0m\u001b[0;34m\u001b[0m\u001b[0m\n\u001b[0m\u001b[1;32m      5\u001b[0m    \u001b[0mprint\u001b[0m\u001b[0;34m(\u001b[0m\u001b[0;34m'Vista roupas leves.'\u001b[0m\u001b[0;34m)\u001b[0m\u001b[0;34m\u001b[0m\u001b[0;34m\u001b[0m\u001b[0m\n\u001b[1;32m      6\u001b[0m \u001b[0;32melse\u001b[0m\u001b[0;34m:\u001b[0m\u001b[0;34m\u001b[0m\u001b[0;34m\u001b[0m\u001b[0m\n",
            "\u001b[0;31mTypeError\u001b[0m: '>' not supported between instances of 'str' and 'int'"
          ]
        }
      ]
    },
    {
      "cell_type": "markdown",
      "metadata": {
        "id": "IR1ojlksYayu"
      },
      "source": [
        "**Variáveis locais e globais**"
      ]
    },
    {
      "cell_type": "code",
      "metadata": {
        "id": "ZFXffzFcYNUs"
      },
      "source": [
        "# Variável Global\r\n",
        "var_global = 10  # Esta é uma variável global\r\n",
        "\r\n",
        "def multiply(num1, num2):\r\n",
        "    var_global = num1 * num2  # Esta é uma variável local\r\n",
        "    print(var_global)"
      ],
      "execution_count": 2,
      "outputs": []
    },
    {
      "cell_type": "code",
      "metadata": {
        "id": "mXWMTsCYYtcF",
        "outputId": "9795b433-8d5a-43bc-9a54-241ac6b4184f",
        "colab": {
          "base_uri": "https://localhost:8080/"
        }
      },
      "source": [
        "multiply(5, 25)"
      ],
      "execution_count": 3,
      "outputs": [
        {
          "output_type": "stream",
          "text": [
            "125\n"
          ],
          "name": "stdout"
        }
      ]
    },
    {
      "cell_type": "code",
      "metadata": {
        "id": "yOdXCujyY9r6",
        "outputId": "4584a462-07e7-4ebc-918c-e8e07764a530",
        "colab": {
          "base_uri": "https://localhost:8080/"
        }
      },
      "source": [
        "print(var_global)"
      ],
      "execution_count": 4,
      "outputs": [
        {
          "output_type": "stream",
          "text": [
            "10\n"
          ],
          "name": "stdout"
        }
      ]
    },
    {
      "cell_type": "code",
      "metadata": {
        "id": "hbyKNNkdZEvd",
        "outputId": "b9ee4663-32b3-41e1-aa56-e4a28909c2d0",
        "colab": {
          "base_uri": "https://localhost:8080/",
          "height": 163
        }
      },
      "source": [
        "print(var_local)"
      ],
      "execution_count": 5,
      "outputs": [
        {
          "output_type": "error",
          "ename": "NameError",
          "evalue": "ignored",
          "traceback": [
            "\u001b[0;31m---------------------------------------------------------------------------\u001b[0m",
            "\u001b[0;31mNameError\u001b[0m                                 Traceback (most recent call last)",
            "\u001b[0;32m<ipython-input-5-0a9f1c3cecf1>\u001b[0m in \u001b[0;36m<module>\u001b[0;34m()\u001b[0m\n\u001b[0;32m----> 1\u001b[0;31m \u001b[0mprint\u001b[0m\u001b[0;34m(\u001b[0m\u001b[0mvar_local\u001b[0m\u001b[0;34m)\u001b[0m\u001b[0;34m\u001b[0m\u001b[0;34m\u001b[0m\u001b[0m\n\u001b[0m",
            "\u001b[0;31mNameError\u001b[0m: name 'var_local' is not defined"
          ]
        }
      ]
    },
    {
      "cell_type": "markdown",
      "metadata": {
        "id": "GD9TF9CDZt75"
      },
      "source": [
        "**Funções Built-in**"
      ]
    },
    {
      "cell_type": "code",
      "metadata": {
        "id": "xHLStnuLZI3D",
        "outputId": "aaf92260-d857-42c8-fa9c-6a9cc51e5eae",
        "colab": {
          "base_uri": "https://localhost:8080/"
        }
      },
      "source": [
        "abs(-56)"
      ],
      "execution_count": 6,
      "outputs": [
        {
          "output_type": "execute_result",
          "data": {
            "text/plain": [
              "56"
            ]
          },
          "metadata": {
            "tags": []
          },
          "execution_count": 6
        }
      ]
    },
    {
      "cell_type": "code",
      "metadata": {
        "id": "7D_jjSOTZ4O4",
        "outputId": "8078a729-ec73-47f9-d36b-15c128f50712",
        "colab": {
          "base_uri": "https://localhost:8080/"
        }
      },
      "source": [
        "abs(23)"
      ],
      "execution_count": 7,
      "outputs": [
        {
          "output_type": "execute_result",
          "data": {
            "text/plain": [
              "23"
            ]
          },
          "metadata": {
            "tags": []
          },
          "execution_count": 7
        }
      ]
    },
    {
      "cell_type": "code",
      "metadata": {
        "id": "d372nZ3iaAgu",
        "outputId": "42ecdd19-c09c-439e-8101-7c2e716f525f",
        "colab": {
          "base_uri": "https://localhost:8080/"
        }
      },
      "source": [
        "bool(0)"
      ],
      "execution_count": 8,
      "outputs": [
        {
          "output_type": "execute_result",
          "data": {
            "text/plain": [
              "False"
            ]
          },
          "metadata": {
            "tags": []
          },
          "execution_count": 8
        }
      ]
    },
    {
      "cell_type": "code",
      "metadata": {
        "id": "-uQADXfIaBUP",
        "outputId": "d1298d1e-cd9e-4641-82f0-aaa766e67698",
        "colab": {
          "base_uri": "https://localhost:8080/"
        }
      },
      "source": [
        "bool(1)"
      ],
      "execution_count": 9,
      "outputs": [
        {
          "output_type": "execute_result",
          "data": {
            "text/plain": [
              "True"
            ]
          },
          "metadata": {
            "tags": []
          },
          "execution_count": 9
        }
      ]
    },
    {
      "cell_type": "markdown",
      "metadata": {
        "id": "5D6o0aY9aLI2"
      },
      "source": [
        "**Funções str, int, float**"
      ]
    },
    {
      "cell_type": "code",
      "metadata": {
        "id": "ngElvs7raPJL",
        "outputId": "cbd722d3-74c8-4709-fbbf-8db1130adc84",
        "colab": {
          "base_uri": "https://localhost:8080/",
          "height": 231
        }
      },
      "source": [
        "# Erro ao executar por causa da conversão\r\n",
        "idade = input(\"Digite sua idade: \")\r\n",
        "if idade > 13:\r\n",
        "  print(\"Você pode acessar o Facebook\")"
      ],
      "execution_count": 10,
      "outputs": [
        {
          "output_type": "stream",
          "text": [
            "Digite sua idade: 15\n"
          ],
          "name": "stdout"
        },
        {
          "output_type": "error",
          "ename": "TypeError",
          "evalue": "ignored",
          "traceback": [
            "\u001b[0;31m---------------------------------------------------------------------------\u001b[0m",
            "\u001b[0;31mTypeError\u001b[0m                                 Traceback (most recent call last)",
            "\u001b[0;32m<ipython-input-10-6e83e75989a2>\u001b[0m in \u001b[0;36m<module>\u001b[0;34m()\u001b[0m\n\u001b[1;32m      1\u001b[0m \u001b[0;31m# Erro ao executar por causa da conversão\u001b[0m\u001b[0;34m\u001b[0m\u001b[0;34m\u001b[0m\u001b[0;34m\u001b[0m\u001b[0m\n\u001b[1;32m      2\u001b[0m \u001b[0midade\u001b[0m \u001b[0;34m=\u001b[0m \u001b[0minput\u001b[0m\u001b[0;34m(\u001b[0m\u001b[0;34m\"Digite sua idade: \"\u001b[0m\u001b[0;34m)\u001b[0m\u001b[0;34m\u001b[0m\u001b[0;34m\u001b[0m\u001b[0m\n\u001b[0;32m----> 3\u001b[0;31m \u001b[0;32mif\u001b[0m \u001b[0midade\u001b[0m \u001b[0;34m>\u001b[0m \u001b[0;36m13\u001b[0m\u001b[0;34m:\u001b[0m\u001b[0;34m\u001b[0m\u001b[0;34m\u001b[0m\u001b[0m\n\u001b[0m\u001b[1;32m      4\u001b[0m   \u001b[0mprint\u001b[0m\u001b[0;34m(\u001b[0m\u001b[0;34m\"Você pode acessar o Facebook\"\u001b[0m\u001b[0;34m)\u001b[0m\u001b[0;34m\u001b[0m\u001b[0;34m\u001b[0m\u001b[0m\n",
            "\u001b[0;31mTypeError\u001b[0m: '>' not supported between instances of 'str' and 'int'"
          ]
        }
      ]
    },
    {
      "cell_type": "code",
      "metadata": {
        "id": "teEZ0Hb9aldC"
      },
      "source": [
        "# Usando a função int para converter o valor digitado\r\n",
        "idade = int(input(\"Digite sua idade: \"))\r\n",
        "if idade > 13:\r\n",
        "  print(\"Você pode acessar o Facebook\")"
      ],
      "execution_count": null,
      "outputs": []
    },
    {
      "cell_type": "code",
      "metadata": {
        "id": "aH8VXp5Oaz9X",
        "outputId": "443f8706-adb8-46ee-c804-ca69d31af18d",
        "colab": {
          "base_uri": "https://localhost:8080/"
        }
      },
      "source": [
        "int(\"26\")"
      ],
      "execution_count": 13,
      "outputs": [
        {
          "output_type": "execute_result",
          "data": {
            "text/plain": [
              "26"
            ]
          },
          "metadata": {
            "tags": []
          },
          "execution_count": 13
        }
      ]
    },
    {
      "cell_type": "code",
      "metadata": {
        "id": "u4VRcdDVa1_h",
        "outputId": "d36ee90b-81a9-4301-a1aa-eb67454190d0",
        "colab": {
          "base_uri": "https://localhost:8080/"
        }
      },
      "source": [
        "float(\"123.345\")"
      ],
      "execution_count": 14,
      "outputs": [
        {
          "output_type": "execute_result",
          "data": {
            "text/plain": [
              "123.345"
            ]
          },
          "metadata": {
            "tags": []
          },
          "execution_count": 14
        }
      ]
    },
    {
      "cell_type": "code",
      "metadata": {
        "id": "-uTVLtaKa65C",
        "outputId": "6346ab61-6122-4fec-b833-e1bf343c5092",
        "colab": {
          "base_uri": "https://localhost:8080/",
          "height": 35
        }
      },
      "source": [
        "str(14)"
      ],
      "execution_count": 15,
      "outputs": [
        {
          "output_type": "execute_result",
          "data": {
            "application/vnd.google.colaboratory.intrinsic+json": {
              "type": "string"
            },
            "text/plain": [
              "'14'"
            ]
          },
          "metadata": {
            "tags": []
          },
          "execution_count": 15
        }
      ]
    },
    {
      "cell_type": "code",
      "metadata": {
        "id": "f5u97AudbiH1",
        "outputId": "5be68443-552c-40e3-8097-f2c08f02ff83",
        "colab": {
          "base_uri": "https://localhost:8080/"
        }
      },
      "source": [
        "len([23,34,45,46])"
      ],
      "execution_count": 16,
      "outputs": [
        {
          "output_type": "execute_result",
          "data": {
            "text/plain": [
              "4"
            ]
          },
          "metadata": {
            "tags": []
          },
          "execution_count": 16
        }
      ]
    },
    {
      "cell_type": "code",
      "metadata": {
        "id": "Kj3MIgbFbkFO"
      },
      "source": [
        "array = ['a', 'b', 'c']"
      ],
      "execution_count": 17,
      "outputs": []
    },
    {
      "cell_type": "code",
      "metadata": {
        "id": "ScD-ZAVFfLrN",
        "outputId": "c453607b-a3c1-4f4f-b60f-35738344c048",
        "colab": {
          "base_uri": "https://localhost:8080/",
          "height": 35
        }
      },
      "source": [
        "max(array)"
      ],
      "execution_count": 18,
      "outputs": [
        {
          "output_type": "execute_result",
          "data": {
            "application/vnd.google.colaboratory.intrinsic+json": {
              "type": "string"
            },
            "text/plain": [
              "'c'"
            ]
          },
          "metadata": {
            "tags": []
          },
          "execution_count": 18
        }
      ]
    },
    {
      "cell_type": "code",
      "metadata": {
        "id": "5neoRFcUfSwO"
      },
      "source": [
        "# Eu coloquei\r\n",
        "array = ['a', 'c', 'b']"
      ],
      "execution_count": 19,
      "outputs": []
    },
    {
      "cell_type": "code",
      "metadata": {
        "id": "LuUqa1bLgKpd",
        "outputId": "34a27adf-fc64-49b8-dbd7-f235f60d1cf5",
        "colab": {
          "base_uri": "https://localhost:8080/",
          "height": 35
        }
      },
      "source": [
        "max(array)"
      ],
      "execution_count": 20,
      "outputs": [
        {
          "output_type": "execute_result",
          "data": {
            "application/vnd.google.colaboratory.intrinsic+json": {
              "type": "string"
            },
            "text/plain": [
              "'c'"
            ]
          },
          "metadata": {
            "tags": []
          },
          "execution_count": 20
        }
      ]
    },
    {
      "cell_type": "code",
      "metadata": {
        "id": "uGKEvnAogbfp",
        "outputId": "ded0d513-3a85-4cca-9115-53ee02cd1fa8",
        "colab": {
          "base_uri": "https://localhost:8080/",
          "height": 35
        }
      },
      "source": [
        "min(array)"
      ],
      "execution_count": 21,
      "outputs": [
        {
          "output_type": "execute_result",
          "data": {
            "application/vnd.google.colaboratory.intrinsic+json": {
              "type": "string"
            },
            "text/plain": [
              "'a'"
            ]
          },
          "metadata": {
            "tags": []
          },
          "execution_count": 21
        }
      ]
    },
    {
      "cell_type": "code",
      "metadata": {
        "id": "O8lOH1KniOGo"
      },
      "source": [
        "array = ['a', 'b', 'c', 'd', 'A', 'B', 'C', 'D']"
      ],
      "execution_count": 22,
      "outputs": []
    },
    {
      "cell_type": "code",
      "metadata": {
        "id": "e6VyF0VgiPTZ",
        "outputId": "4dae2664-8df1-4e12-fdac-83fa92b17341",
        "colab": {
          "base_uri": "https://localhost:8080/"
        }
      },
      "source": [
        "array"
      ],
      "execution_count": 23,
      "outputs": [
        {
          "output_type": "execute_result",
          "data": {
            "text/plain": [
              "['a', 'b', 'c', 'd', 'A', 'B', 'C', 'D']"
            ]
          },
          "metadata": {
            "tags": []
          },
          "execution_count": 23
        }
      ]
    },
    {
      "cell_type": "code",
      "metadata": {
        "id": "zsvlthTWigpL",
        "outputId": "969a61a8-a06d-4c6e-dc47-45b0da245168",
        "colab": {
          "base_uri": "https://localhost:8080/",
          "height": 35
        }
      },
      "source": [
        "max(array)"
      ],
      "execution_count": 24,
      "outputs": [
        {
          "output_type": "execute_result",
          "data": {
            "application/vnd.google.colaboratory.intrinsic+json": {
              "type": "string"
            },
            "text/plain": [
              "'d'"
            ]
          },
          "metadata": {
            "tags": []
          },
          "execution_count": 24
        }
      ]
    },
    {
      "cell_type": "code",
      "metadata": {
        "id": "0vEQAa1digdf",
        "outputId": "b8fe01e0-1f6f-4ebe-98a6-ec32a70080e9",
        "colab": {
          "base_uri": "https://localhost:8080/",
          "height": 35
        }
      },
      "source": [
        "min(array)"
      ],
      "execution_count": 25,
      "outputs": [
        {
          "output_type": "execute_result",
          "data": {
            "application/vnd.google.colaboratory.intrinsic+json": {
              "type": "string"
            },
            "text/plain": [
              "'A'"
            ]
          },
          "metadata": {
            "tags": []
          },
          "execution_count": 25
        }
      ]
    },
    {
      "cell_type": "code",
      "metadata": {
        "id": "BuylWe5viq6L"
      },
      "source": [
        "# Feito por mim - curioso! Observe.\r\n",
        "array = ['A', 'B', 'C', 'D', 'a', 'b', 'c', 'd']"
      ],
      "execution_count": 31,
      "outputs": []
    },
    {
      "cell_type": "code",
      "metadata": {
        "id": "j0VFBR6EjD4y",
        "outputId": "d91ec6fe-b099-40e6-804f-3cc6d2ead7cf",
        "colab": {
          "base_uri": "https://localhost:8080/"
        }
      },
      "source": [
        "array"
      ],
      "execution_count": 28,
      "outputs": [
        {
          "output_type": "execute_result",
          "data": {
            "text/plain": [
              "['A', 'B', 'C', 'D', 'a', 'b', 'c', 'd']"
            ]
          },
          "metadata": {
            "tags": []
          },
          "execution_count": 28
        }
      ]
    },
    {
      "cell_type": "code",
      "metadata": {
        "id": "wKxAAmwPjLub",
        "outputId": "c4a00962-2d86-4f25-c551-feec00415d27",
        "colab": {
          "base_uri": "https://localhost:8080/",
          "height": 35
        }
      },
      "source": [
        "max(array)"
      ],
      "execution_count": 29,
      "outputs": [
        {
          "output_type": "execute_result",
          "data": {
            "application/vnd.google.colaboratory.intrinsic+json": {
              "type": "string"
            },
            "text/plain": [
              "'d'"
            ]
          },
          "metadata": {
            "tags": []
          },
          "execution_count": 29
        }
      ]
    },
    {
      "cell_type": "code",
      "metadata": {
        "id": "QoqW_Sq3jPFX",
        "outputId": "b71d5818-3100-4f6e-d7ca-91ba6da59af3",
        "colab": {
          "base_uri": "https://localhost:8080/",
          "height": 35
        }
      },
      "source": [
        "min(array)"
      ],
      "execution_count": 30,
      "outputs": [
        {
          "output_type": "execute_result",
          "data": {
            "application/vnd.google.colaboratory.intrinsic+json": {
              "type": "string"
            },
            "text/plain": [
              "'A'"
            ]
          },
          "metadata": {
            "tags": []
          },
          "execution_count": 30
        }
      ]
    },
    {
      "cell_type": "code",
      "metadata": {
        "id": "yT23uUkmj4gj"
      },
      "source": [
        "list1 = [23, 23, 34, 45]"
      ],
      "execution_count": 32,
      "outputs": []
    },
    {
      "cell_type": "code",
      "metadata": {
        "id": "Hjorp257j-f5",
        "outputId": "fcf49af8-604a-425e-ee8c-a97385916d72",
        "colab": {
          "base_uri": "https://localhost:8080/"
        }
      },
      "source": [
        "sum(list1)"
      ],
      "execution_count": 33,
      "outputs": [
        {
          "output_type": "execute_result",
          "data": {
            "text/plain": [
              "125"
            ]
          },
          "metadata": {
            "tags": []
          },
          "execution_count": 33
        }
      ]
    },
    {
      "cell_type": "markdown",
      "metadata": {
        "id": "p-u7RKtMkIGt"
      },
      "source": [
        "**Criando funções usando outras funções**"
      ]
    },
    {
      "cell_type": "code",
      "metadata": {
        "id": "5aqC1bbnkOwf"
      },
      "source": [
        "import math\r\n",
        "\r\n",
        "def numPrimo(num):\r\n",
        "    '''\r\n",
        "    Verificando se um número \r\n",
        "    é primo. \r\n",
        "    '''\r\n",
        "    if (num % 2) == 0 and num > 2: \r\n",
        "        return \"Este número não é primo\"\r\n",
        "    for i in range(3, int(math.sqrt(num)) + 1, 2):\r\n",
        "        if (num % i) == 0:\r\n",
        "            return \"Este número não é primo\"\r\n",
        "    return \"Este número é primo\""
      ],
      "execution_count": 41,
      "outputs": []
    },
    {
      "cell_type": "code",
      "metadata": {
        "id": "cd1XyzWomZ9F"
      },
      "source": [
        "numPrimo(541)"
      ],
      "execution_count": null,
      "outputs": []
    },
    {
      "cell_type": "code",
      "metadata": {
        "id": "j-mLKqB8mt1E",
        "outputId": "b163a24b-55c4-4de8-f4d9-4ae252a8ab41",
        "colab": {
          "base_uri": "https://localhost:8080/",
          "height": 35
        }
      },
      "source": [
        "# Colocado por mim\r\n",
        "numPrimo(561)"
      ],
      "execution_count": 37,
      "outputs": [
        {
          "output_type": "execute_result",
          "data": {
            "application/vnd.google.colaboratory.intrinsic+json": {
              "type": "string"
            },
            "text/plain": [
              "'Este número não é primo'"
            ]
          },
          "metadata": {
            "tags": []
          },
          "execution_count": 37
        }
      ]
    },
    {
      "cell_type": "code",
      "metadata": {
        "id": "tmfsbNzKnIbh",
        "outputId": "7423dd97-510c-410a-c822-2233fb920440",
        "colab": {
          "base_uri": "https://localhost:8080/",
          "height": 35
        }
      },
      "source": [
        "# Colocado por mim\r\n",
        "numPrimo(2567825541)"
      ],
      "execution_count": 44,
      "outputs": [
        {
          "output_type": "execute_result",
          "data": {
            "application/vnd.google.colaboratory.intrinsic+json": {
              "type": "string"
            },
            "text/plain": [
              "'Este número não é primo'"
            ]
          },
          "metadata": {
            "tags": []
          },
          "execution_count": 44
        }
      ]
    },
    {
      "cell_type": "markdown",
      "metadata": {
        "id": "OzyvRm970Bb_"
      },
      "source": [
        "**Fazendo split dos dados**"
      ]
    },
    {
      "cell_type": "code",
      "metadata": {
        "id": "CQ2pYiSE0E0g"
      },
      "source": [
        "# Fazendo split dos dados\r\n",
        "def split_string(text):\r\n",
        "    return text.split(\" \")"
      ],
      "execution_count": 45,
      "outputs": []
    },
    {
      "cell_type": "code",
      "metadata": {
        "id": "523uExfez9Ff"
      },
      "source": [
        "texto = \"Esta função será bastante útil para separar grandes volumes de dados.\""
      ],
      "execution_count": 46,
      "outputs": []
    },
    {
      "cell_type": "code",
      "metadata": {
        "id": "VHB8Ws9v0oY8",
        "outputId": "59b853ac-b0c2-47a1-8da3-f005d0104d34",
        "colab": {
          "base_uri": "https://localhost:8080/"
        }
      },
      "source": [
        "# Isso divide a string em uma lista.\r\n",
        "print(split_string(texto))"
      ],
      "execution_count": 47,
      "outputs": [
        {
          "output_type": "stream",
          "text": [
            "['Esta', 'função', 'será', 'bastante', 'útil', 'para', 'separar', 'grandes', 'volumes', 'de', 'dados.']\n"
          ],
          "name": "stdout"
        }
      ]
    },
    {
      "cell_type": "code",
      "metadata": {
        "id": "9TcI8b3W01kl"
      },
      "source": [
        "# Podemos atribuir o output de uma função, para uma variável\r\n",
        "token = split_string(texto)"
      ],
      "execution_count": 57,
      "outputs": []
    },
    {
      "cell_type": "code",
      "metadata": {
        "id": "P9zRut4H0-T1",
        "outputId": "7b183569-43fa-4468-f96d-0473115c5358",
        "colab": {
          "base_uri": "https://localhost:8080/"
        }
      },
      "source": [
        "token"
      ],
      "execution_count": 58,
      "outputs": [
        {
          "output_type": "execute_result",
          "data": {
            "text/plain": [
              "['Esta',\n",
              " 'função',\n",
              " 'será',\n",
              " 'bastante',\n",
              " 'útil',\n",
              " 'para',\n",
              " 'separar',\n",
              " 'grandes',\n",
              " 'volumes',\n",
              " 'de',\n",
              " 'dados.']"
            ]
          },
          "metadata": {
            "tags": []
          },
          "execution_count": 58
        }
      ]
    },
    {
      "cell_type": "code",
      "metadata": {
        "id": "xV5iI8p216X4"
      },
      "source": [
        "caixa_baixa = \"Este Texto Deveria Estar Todo Em caixa baixa\""
      ],
      "execution_count": 70,
      "outputs": []
    },
    {
      "cell_type": "code",
      "metadata": {
        "id": "fG_6svjQ25N1"
      },
      "source": [
        "def lowercase(text):\r\n",
        "    return text.lower()"
      ],
      "execution_count": 71,
      "outputs": []
    },
    {
      "cell_type": "code",
      "metadata": {
        "id": "swlY2eX63OBe"
      },
      "source": [
        "lowercased_string = lowercase(caixa_baixa)"
      ],
      "execution_count": 72,
      "outputs": []
    },
    {
      "cell_type": "code",
      "metadata": {
        "id": "ytOXodlv41V1",
        "outputId": "9f169369-ee99-4c3e-d48c-77f80db60525",
        "colab": {
          "base_uri": "https://localhost:8080/",
          "height": 35
        }
      },
      "source": [
        "lowercased_string"
      ],
      "execution_count": 73,
      "outputs": [
        {
          "output_type": "execute_result",
          "data": {
            "application/vnd.google.colaboratory.intrinsic+json": {
              "type": "string"
            },
            "text/plain": [
              "'este texto deveria estar todo em caixa baixa'"
            ]
          },
          "metadata": {
            "tags": []
          },
          "execution_count": 73
        }
      ]
    },
    {
      "cell_type": "code",
      "metadata": {
        "id": "S6lMPO1G5BK0"
      },
      "source": [
        "# Funções com número variável de argumentos\r\n",
        "def printVarInfo( arg1, *vartuple ):\r\n",
        "   # Imprimindo o valor do primeiro argumento\r\n",
        "    print (\"O parâmetro passado foi: \", arg1)\r\n",
        "   \r\n",
        "   # Imprimindo o valor do segundo argumento \r\n",
        "    for item in vartuple:\r\n",
        "        print (\"O parâmetro passado foi: \", item)\r\n",
        "    return;"
      ],
      "execution_count": 75,
      "outputs": []
    },
    {
      "cell_type": "code",
      "metadata": {
        "id": "jeNvcHAa5JPy",
        "outputId": "d76d6a83-40db-4434-b7c3-9c4a88a24d31",
        "colab": {
          "base_uri": "https://localhost:8080/"
        }
      },
      "source": [
        "# Fazendo chamada à função usando apenas 1 argumento\r\n",
        "printVarInfo(10)"
      ],
      "execution_count": 76,
      "outputs": [
        {
          "output_type": "stream",
          "text": [
            "O parâmetro passado foi:  10\n"
          ],
          "name": "stdout"
        }
      ]
    },
    {
      "cell_type": "code",
      "metadata": {
        "id": "rgAIq3ZO5TuN",
        "outputId": "a20f0a93-aab6-47af-fcff-177689690e19",
        "colab": {
          "base_uri": "https://localhost:8080/"
        }
      },
      "source": [
        "printVarInfo('Chocolate', 'Morango', 'Banana')"
      ],
      "execution_count": 77,
      "outputs": [
        {
          "output_type": "stream",
          "text": [
            "O parâmetro passado foi:  Chocolate\n",
            "O parâmetro passado foi:  Morango\n",
            "O parâmetro passado foi:  Banana\n"
          ],
          "name": "stdout"
        }
      ]
    },
    {
      "cell_type": "markdown",
      "metadata": {
        "id": "MXmTb9-E5gvM"
      },
      "source": [
        "# **Fim**\r\n",
        "\r\n",
        "***Obrigado - Data Science Academy ***"
      ]
    }
  ]
}