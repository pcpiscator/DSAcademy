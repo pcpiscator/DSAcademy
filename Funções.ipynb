{
  "nbformat": 4,
  "nbformat_minor": 0,
  "metadata": {
    "colab": {
      "name": "Funções.ipynb",
      "provenance": [],
      "authorship_tag": "ABX9TyPmf3h/Q674ykE8+w4lxcz3",
      "include_colab_link": true
    },
    "kernelspec": {
      "name": "python3",
      "display_name": "Python 3"
    }
  },
  "cells": [
    {
      "cell_type": "markdown",
      "metadata": {
        "id": "view-in-github",
        "colab_type": "text"
      },
      "source": [
        "<a href=\"https://colab.research.google.com/github/pcpiscator/DSAcademy/blob/main/Fun%C3%A7%C3%B5es.ipynb\" target=\"_parent\"><img src=\"https://colab.research.google.com/assets/colab-badge.svg\" alt=\"Open In Colab\"/></a>"
      ]
    },
    {
      "cell_type": "code",
      "metadata": {
        "colab": {
          "base_uri": "https://localhost:8080/"
        },
        "id": "LVV1w3NLm8HR",
        "outputId": "c05e869e-9bfe-4595-efe6-89decd1e7ca0"
      },
      "source": [
        "# Versão da Linguagem Python\r\n",
        "from platform import python_version\r\n",
        "print('Versão da Linguagem Python Usada Neste Jupyter Notebook:', python_version())"
      ],
      "execution_count": 1,
      "outputs": [
        {
          "output_type": "stream",
          "text": [
            "Versão da Linguagem Python Usada Neste Jupyter Notebook: 3.6.9\n"
          ],
          "name": "stdout"
        }
      ]
    },
    {
      "cell_type": "markdown",
      "metadata": {
        "id": "hGFiS0aBnNPi"
      },
      "source": [
        "# **Funções**"
      ]
    },
    {
      "cell_type": "code",
      "metadata": {
        "id": "7AUhJzQ-nIvy"
      },
      "source": [
        "# Definindo uma função\r\n",
        "def primeiraFunc():\r\n",
        "    print('Hello World')"
      ],
      "execution_count": 2,
      "outputs": []
    },
    {
      "cell_type": "code",
      "metadata": {
        "colab": {
          "base_uri": "https://localhost:8080/"
        },
        "id": "5q-IyBeUnXXd",
        "outputId": "1a27e562-ca82-48e5-f495-4fb5dbbf757f"
      },
      "source": [
        "primeiraFunc()"
      ],
      "execution_count": 3,
      "outputs": [
        {
          "output_type": "stream",
          "text": [
            "Hello World\n"
          ],
          "name": "stdout"
        }
      ]
    },
    {
      "cell_type": "code",
      "metadata": {
        "id": "0W3qHuS2nbb7"
      },
      "source": [
        "# Definindo uma função com parâmetro- obs.: mudou o código, mudou a função.\r\n",
        "def primeiraFunc(nome):\r\n",
        "    print('Hello %s' %(nome))"
      ],
      "execution_count": 7,
      "outputs": []
    },
    {
      "cell_type": "code",
      "metadata": {
        "colab": {
          "base_uri": "https://localhost:8080/"
        },
        "id": "N6kKUogsp26Y",
        "outputId": "077e0167-962d-4d06-f6c6-e6f7cf067105"
      },
      "source": [
        "primeiraFunc(\"My friends in Brazil!\")"
      ],
      "execution_count": 8,
      "outputs": [
        {
          "output_type": "stream",
          "text": [
            "Hello My friends in Brazil!\n"
          ],
          "name": "stdout"
        }
      ]
    },
    {
      "cell_type": "code",
      "metadata": {
        "id": "T_yjMs2eqaAp"
      },
      "source": [
        "def funcLeitura():\r\n",
        "    for i in range(0, 5):\r\n",
        "        print(\"Número \" + str(i))"
      ],
      "execution_count": 10,
      "outputs": []
    },
    {
      "cell_type": "code",
      "metadata": {
        "id": "ZXIuQvAtqd_r"
      },
      "source": [
        "funcLeitura()"
      ],
      "execution_count": null,
      "outputs": []
    },
    {
      "cell_type": "code",
      "metadata": {
        "id": "Mv-TSzpLTHX9"
      },
      "source": [
        "# Função para somar números\r\n",
        "def addNum(firstnum, secondnum):\r\n",
        "    print(\"Primeiro número: \" + str(firstnum))\r\n",
        "    print(\"Segundo número: \" + str(secondnum))\r\n",
        "    print(\"Soma: \", firstnum + secondnum)"
      ],
      "execution_count": 24,
      "outputs": []
    },
    {
      "cell_type": "code",
      "metadata": {
        "colab": {
          "base_uri": "https://localhost:8080/"
        },
        "id": "hF_1-FiITipl",
        "outputId": "75329121-9880-4ae1-e3f9-8214c388aba2"
      },
      "source": [
        "addNum(10, 5)"
      ],
      "execution_count": 28,
      "outputs": [
        {
          "output_type": "stream",
          "text": [
            "Primeiro número: 10\n",
            "Segundo número: 5\n",
            "Soma:  15\n"
          ],
          "name": "stdout"
        }
      ]
    },
    {
      "cell_type": "code",
      "metadata": {
        "colab": {
          "base_uri": "https://localhost:8080/"
        },
        "id": "B_g3WHkeU8ca",
        "outputId": "ae9d2468-54dc-49e1-f820-01a37e5df563"
      },
      "source": [
        "\r\n",
        "\r\n",
        "temperatura = int(input('Qual a temperatura? '))\r\n",
        "if temperatura > 30:\r\n",
        "   print('Vista roupas leves.')\r\n",
        "else:\r\n",
        "    print('Busque seus casacos.')"
      ],
      "execution_count": 57,
      "outputs": [
        {
          "output_type": "stream",
          "text": [
            "Qual a temperatura? 46\n",
            "Vista roupas leves.\n"
          ],
          "name": "stdout"
        }
      ]
    },
    {
      "cell_type": "code",
      "metadata": {
        "colab": {
          "base_uri": "https://localhost:8080/"
        },
        "id": "2orx1zEOfXJE",
        "outputId": "55a067f2-2df5-4898-c43e-1cc6a8aa24a4"
      },
      "source": [
        "temperatura"
      ],
      "execution_count": 58,
      "outputs": [
        {
          "output_type": "execute_result",
          "data": {
            "text/plain": [
              "46"
            ]
          },
          "metadata": {
            "tags": []
          },
          "execution_count": 58
        }
      ]
    },
    {
      "cell_type": "code",
      "metadata": {
        "colab": {
          "base_uri": "https://localhost:8080/",
          "height": 248
        },
        "id": "gFE5DWWQksed",
        "outputId": "b192ef9e-d874-4209-b6c9-d0c7ddd39818"
      },
      "source": [
        "#conflito entre str e int\r\n",
        "\r\n",
        "temperatura = (input('Qual a temperatura? '))\r\n",
        "if temperatura > 30:\r\n",
        "   print('Vista roupas leves.')\r\n",
        "else:\r\n",
        "    print('Busque seus casacos.')"
      ],
      "execution_count": 59,
      "outputs": [
        {
          "output_type": "stream",
          "text": [
            "Qual a temperatura? 31\n"
          ],
          "name": "stdout"
        },
        {
          "output_type": "error",
          "ename": "TypeError",
          "evalue": "ignored",
          "traceback": [
            "\u001b[0;31m---------------------------------------------------------------------------\u001b[0m",
            "\u001b[0;31mTypeError\u001b[0m                                 Traceback (most recent call last)",
            "\u001b[0;32m<ipython-input-59-5babe81821bb>\u001b[0m in \u001b[0;36m<module>\u001b[0;34m()\u001b[0m\n\u001b[1;32m      2\u001b[0m \u001b[0;34m\u001b[0m\u001b[0m\n\u001b[1;32m      3\u001b[0m \u001b[0mtemperatura\u001b[0m \u001b[0;34m=\u001b[0m \u001b[0;34m(\u001b[0m\u001b[0minput\u001b[0m\u001b[0;34m(\u001b[0m\u001b[0;34m'Qual a temperatura? '\u001b[0m\u001b[0;34m)\u001b[0m\u001b[0;34m)\u001b[0m\u001b[0;34m\u001b[0m\u001b[0;34m\u001b[0m\u001b[0m\n\u001b[0;32m----> 4\u001b[0;31m \u001b[0;32mif\u001b[0m \u001b[0mtemperatura\u001b[0m \u001b[0;34m>\u001b[0m \u001b[0;36m30\u001b[0m\u001b[0;34m:\u001b[0m\u001b[0;34m\u001b[0m\u001b[0;34m\u001b[0m\u001b[0m\n\u001b[0m\u001b[1;32m      5\u001b[0m    \u001b[0mprint\u001b[0m\u001b[0;34m(\u001b[0m\u001b[0;34m'Vista roupas leves.'\u001b[0m\u001b[0;34m)\u001b[0m\u001b[0;34m\u001b[0m\u001b[0;34m\u001b[0m\u001b[0m\n\u001b[1;32m      6\u001b[0m \u001b[0;32melse\u001b[0m\u001b[0;34m:\u001b[0m\u001b[0;34m\u001b[0m\u001b[0;34m\u001b[0m\u001b[0m\n",
            "\u001b[0;31mTypeError\u001b[0m: '>' not supported between instances of 'str' and 'int'"
          ]
        }
      ]
    }
  ]
}