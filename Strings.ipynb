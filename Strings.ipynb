{
  "nbformat": 4,
  "nbformat_minor": 0,
  "metadata": {
    "colab": {
      "name": "Strings.ipynb",
      "provenance": [],
      "authorship_tag": "ABX9TyPGZL9kZoWOhoTA8Zs6bfSC",
      "include_colab_link": true
    },
    "kernelspec": {
      "name": "python3",
      "display_name": "Python 3"
    }
  },
  "cells": [
    {
      "cell_type": "markdown",
      "metadata": {
        "id": "view-in-github",
        "colab_type": "text"
      },
      "source": [
        "<a href=\"https://colab.research.google.com/github/pcpiscator/DSAcademy/blob/main/Strings.ipynb\" target=\"_parent\"><img src=\"https://colab.research.google.com/assets/colab-badge.svg\" alt=\"Open In Colab\"/></a>"
      ]
    },
    {
      "cell_type": "code",
      "metadata": {
        "colab": {
          "base_uri": "https://localhost:8080/"
        },
        "id": "XuCZWbqJEIoC",
        "outputId": "2c152928-35de-4d77-81cf-d3eabc75eb09"
      },
      "source": [
        "# Versão da Linguagem Python\r\n",
        "from platform import python_version\r\n",
        "print('Versão da Linguagem Python Usada Neste Jupyter Notebook:', python_version())"
      ],
      "execution_count": 2,
      "outputs": [
        {
          "output_type": "stream",
          "text": [
            "Versão da Linguagem Python Usada Neste Jupyter Notebook: 3.6.9\n"
          ],
          "name": "stdout"
        }
      ]
    },
    {
      "cell_type": "markdown",
      "metadata": {
        "id": "uVJtOJr4Eheo"
      },
      "source": [
        "# **Strings**"
      ]
    },
    {
      "cell_type": "markdown",
      "metadata": {
        "id": "qE-9olMAEzM4"
      },
      "source": [
        "Criando uma String\r\n",
        "\r\n",
        "Para criar uma string em Python você pode usar aspas simples ou duplas. Por exemplo:"
      ]
    },
    {
      "cell_type": "code",
      "metadata": {
        "id": "-x7GbJJjElLo"
      },
      "source": [
        "# Uma única palavra\r\n",
        "'Oi'"
      ],
      "execution_count": null,
      "outputs": []
    },
    {
      "cell_type": "code",
      "metadata": {
        "id": "Nf37NVBGFHSh"
      },
      "source": [
        "# Uma frase\r\n",
        "'Criando uma string em Python'"
      ],
      "execution_count": null,
      "outputs": []
    },
    {
      "cell_type": "code",
      "metadata": {
        "id": "shZlPtiKKBi6"
      },
      "source": [
        "# Podemos usar aspas duplas\r\n",
        "\"Podemos usar aspas duplas ou simples para strings em Python\""
      ],
      "execution_count": null,
      "outputs": []
    },
    {
      "cell_type": "code",
      "metadata": {
        "id": "BKZ9vCieKLe6"
      },
      "source": [
        "# Você pode combinar aspas duplas e simples\r\n",
        "\"Testando strings em 'Python'\""
      ],
      "execution_count": null,
      "outputs": []
    },
    {
      "cell_type": "markdown",
      "metadata": {
        "id": "3Mr7DB6hZV3H"
      },
      "source": [
        "Imprimindo uma String"
      ]
    },
    {
      "cell_type": "code",
      "metadata": {
        "id": "MRL6qj-WKPGA"
      },
      "source": [
        "print ('Testando Strings em Python')"
      ],
      "execution_count": null,
      "outputs": []
    },
    {
      "cell_type": "code",
      "metadata": {
        "id": "0tGvVy-caQhO"
      },
      "source": [
        "print ('Testando\\n Strings\\n em \\n Python')"
      ],
      "execution_count": null,
      "outputs": []
    },
    {
      "cell_type": "code",
      "metadata": {
        "id": "YJQtfJc1apnj"
      },
      "source": [
        "print ('\\n')"
      ],
      "execution_count": null,
      "outputs": []
    },
    {
      "cell_type": "markdown",
      "metadata": {
        "id": "IFXHznPObCvO"
      },
      "source": [
        "Indexando Strings"
      ]
    },
    {
      "cell_type": "code",
      "metadata": {
        "id": "NEYkZ7fhbE97"
      },
      "source": [
        "# Atribuindo uma string\r\n",
        "s = 'Data Science Academy'"
      ],
      "execution_count": 6,
      "outputs": []
    },
    {
      "cell_type": "code",
      "metadata": {
        "id": "8e6M8GFtbLeT"
      },
      "source": [
        "s"
      ],
      "execution_count": null,
      "outputs": []
    },
    {
      "cell_type": "code",
      "metadata": {
        "id": "bLkrmt0ubTvf"
      },
      "source": [
        "print(s)"
      ],
      "execution_count": null,
      "outputs": []
    },
    {
      "cell_type": "code",
      "metadata": {
        "id": "2tdwlC6XcDmg"
      },
      "source": [
        "# Primeiro elemento da string. \r\n",
        "s[0]"
      ],
      "execution_count": null,
      "outputs": []
    },
    {
      "cell_type": "code",
      "metadata": {
        "id": "RVeE0cxTcI8M"
      },
      "source": [
        "s[1]"
      ],
      "execution_count": null,
      "outputs": []
    },
    {
      "cell_type": "code",
      "metadata": {
        "id": "pcbZ4D3acJbo"
      },
      "source": [
        "s[2]"
      ],
      "execution_count": null,
      "outputs": []
    },
    {
      "cell_type": "markdown",
      "metadata": {
        "id": "tFupLieic3u0"
      },
      "source": [
        "Podemos usar \":\"para executar um fatiamento que faz a leitura de tudo até um ponto designado. Por exemplo:"
      ]
    },
    {
      "cell_type": "code",
      "metadata": {
        "id": "Xz1heWxddCwA"
      },
      "source": [
        "# Retorna todos os elementos da string, começando pela posição (lembre-se que Python começa a indexação pela posição 0),\r\n",
        "# até o fim da string.\r\n",
        "s[1:]"
      ],
      "execution_count": null,
      "outputs": []
    },
    {
      "cell_type": "code",
      "metadata": {
        "id": "qW-LRMVXdSi9"
      },
      "source": [
        "# A string original permanece inalterada\r\n",
        "s"
      ],
      "execution_count": null,
      "outputs": []
    },
    {
      "cell_type": "code",
      "metadata": {
        "id": "cluqe-GzddGU"
      },
      "source": [
        "# Retorna tudo até a posição 3\r\n",
        "s[:3]"
      ],
      "execution_count": null,
      "outputs": []
    },
    {
      "cell_type": "code",
      "metadata": {
        "id": "v-r8EfR5sc_L"
      },
      "source": [
        "s[:]"
      ],
      "execution_count": null,
      "outputs": []
    },
    {
      "cell_type": "code",
      "metadata": {
        "id": "JrzKbu4esgzW"
      },
      "source": [
        "s[-1]"
      ],
      "execution_count": null,
      "outputs": []
    },
    {
      "cell_type": "code",
      "metadata": {
        "id": "0TnO0ZZBsnr9"
      },
      "source": [
        "s[:-1]"
      ],
      "execution_count": null,
      "outputs": []
    },
    {
      "cell_type": "code",
      "metadata": {
        "colab": {
          "base_uri": "https://localhost:8080/",
          "height": 35
        },
        "id": "623ahMoZsz8J",
        "outputId": "698eda4f-27a8-4fa1-f61e-3a6cd948ddb4"
      },
      "source": [
        "s[::1]"
      ],
      "execution_count": 18,
      "outputs": [
        {
          "output_type": "execute_result",
          "data": {
            "application/vnd.google.colaboratory.intrinsic+json": {
              "type": "string"
            },
            "text/plain": [
              "'Data Science Academy'"
            ]
          },
          "metadata": {
            "tags": []
          },
          "execution_count": 18
        }
      ]
    },
    {
      "cell_type": "code",
      "metadata": {
        "id": "pADueQwPs5nN"
      },
      "source": [
        "s[::2]"
      ],
      "execution_count": null,
      "outputs": []
    },
    {
      "cell_type": "code",
      "metadata": {
        "id": "n2H2J5r7tOL6"
      },
      "source": [
        "s[::-1]"
      ],
      "execution_count": null,
      "outputs": []
    },
    {
      "cell_type": "markdown",
      "metadata": {
        "id": "tXF-q_Fwu2pB"
      },
      "source": [
        "Propriedades de Strings"
      ]
    },
    {
      "cell_type": "code",
      "metadata": {
        "id": "MdX5LINmu5Fs"
      },
      "source": [
        "s"
      ],
      "execution_count": null,
      "outputs": []
    },
    {
      "cell_type": "code",
      "metadata": {
        "id": "lIHgOV5ZvALN"
      },
      "source": [
        "# Alterando um caracter\r\n",
        "s[0] = 'x'"
      ],
      "execution_count": null,
      "outputs": []
    },
    {
      "cell_type": "code",
      "metadata": {
        "colab": {
          "base_uri": "https://localhost:8080/",
          "height": 86
        },
        "id": "URXpDi17vKJ7",
        "outputId": "aba1636a-c04b-401c-b5b9-aba786feb90c"
      },
      "source": [
        "# Concatenando strings\r\n",
        "s + 'é a melhor maneira de estar preparado para o mercado de trabalho em Ciência de Dados!'"
      ],
      "execution_count": 40,
      "outputs": [
        {
          "output_type": "execute_result",
          "data": {
            "application/vnd.google.colaboratory.intrinsic+json": {
              "type": "string"
            },
            "text/plain": [
              "'Data Science Academy é a melhor maneira de estar preparado para o mercado de trabalho em Ciência de Dados! é a melhor maneira de estar preparado para o mercado de trabalho em Ciência de Dados! é a melhor maneira de estar preparado para o mercado de trabalho em Ciência de Dados! é a melhor maneira de estar preparado para o mercado de trabalho em Ciência de Dados!é a melhor maneira de estar preparado para o mercado de trabalho em Ciência de Dados!'"
            ]
          },
          "metadata": {
            "tags": []
          },
          "execution_count": 40
        }
      ]
    },
    {
      "cell_type": "code",
      "metadata": {
        "id": "YHH-sXCevbeI"
      },
      "source": [
        "s = s  + ' é a melhor maneira de estar preparado para o mercado de trabalho em Ciência de Dados!'"
      ],
      "execution_count": 37,
      "outputs": []
    },
    {
      "cell_type": "code",
      "metadata": {
        "id": "lZ5o4DCzvwmp"
      },
      "source": [
        "print(s)"
      ],
      "execution_count": null,
      "outputs": []
    },
    {
      "cell_type": "code",
      "metadata": {
        "id": "u6xJbvdqwa67"
      },
      "source": [
        "# Podemos usar o símbolo de multiplicação para criar repetição!\r\n",
        "letra = 'w'"
      ],
      "execution_count": 32,
      "outputs": []
    },
    {
      "cell_type": "code",
      "metadata": {
        "id": "bmmQg6v3wg57"
      },
      "source": [
        "letra * 3"
      ],
      "execution_count": null,
      "outputs": []
    },
    {
      "cell_type": "markdown",
      "metadata": {
        "id": "IotVLuulwo0y"
      },
      "source": [
        "Funções Built-in de Strings"
      ]
    },
    {
      "cell_type": "code",
      "metadata": {
        "id": "-Sk16MeTwq73"
      },
      "source": [
        "s = 'Data Science Academy, é a melhor maneira de estar preparado para o mercado de trabalho em Ciência de Dados!'"
      ],
      "execution_count": 54,
      "outputs": []
    },
    {
      "cell_type": "code",
      "metadata": {
        "id": "GdOF76zWzoO0"
      },
      "source": [
        "s"
      ],
      "execution_count": null,
      "outputs": []
    },
    {
      "cell_type": "code",
      "metadata": {
        "id": "uvjfOeQI0FL_"
      },
      "source": [
        "# Caixa alta\r\n",
        "s.upper()"
      ],
      "execution_count": null,
      "outputs": []
    },
    {
      "cell_type": "code",
      "metadata": {
        "id": "dPxJWNOR0Ndf"
      },
      "source": [
        "# Caixa baixa\r\n",
        "s.lower()"
      ],
      "execution_count": null,
      "outputs": []
    },
    {
      "cell_type": "code",
      "metadata": {
        "id": "nP0R3pWj3WjZ"
      },
      "source": [
        "# Dividir uma string por espaços em branco (padrão)\r\n",
        "s.split()"
      ],
      "execution_count": null,
      "outputs": []
    },
    {
      "cell_type": "code",
      "metadata": {
        "id": "UkDNk-N34spU"
      },
      "source": [
        "# Dividir uma string por um elemento específico\r\n",
        "s.split('y')\r\n"
      ],
      "execution_count": null,
      "outputs": []
    },
    {
      "cell_type": "markdown",
      "metadata": {
        "id": "SSO7c8CE5CJ5"
      },
      "source": [
        "Funções String"
      ]
    },
    {
      "cell_type": "code",
      "metadata": {
        "id": "sps0xKJR5ED8"
      },
      "source": [
        "s = 'seja bem vindo ao universo de python'"
      ],
      "execution_count": 66,
      "outputs": []
    },
    {
      "cell_type": "code",
      "metadata": {
        "id": "RJAo6PXj5wLw"
      },
      "source": [
        "s.capitalize()"
      ],
      "execution_count": null,
      "outputs": []
    },
    {
      "cell_type": "code",
      "metadata": {
        "id": "uzYUWYV752D7"
      },
      "source": [
        "s.count('a')"
      ],
      "execution_count": null,
      "outputs": []
    },
    {
      "cell_type": "code",
      "metadata": {
        "id": "3j7lnCpU6DlT"
      },
      "source": [
        "s.find('p')"
      ],
      "execution_count": null,
      "outputs": []
    },
    {
      "cell_type": "code",
      "metadata": {
        "id": "nnON1NOC6W0W"
      },
      "source": [
        "s.center(20, 'z')"
      ],
      "execution_count": null,
      "outputs": []
    },
    {
      "cell_type": "code",
      "metadata": {
        "id": "7qkBjRjP6bD_"
      },
      "source": [
        "s.isalnum()"
      ],
      "execution_count": null,
      "outputs": []
    },
    {
      "cell_type": "code",
      "metadata": {
        "id": "_9GNWRCr6jDH"
      },
      "source": [
        "s.isalpha()"
      ],
      "execution_count": null,
      "outputs": []
    },
    {
      "cell_type": "code",
      "metadata": {
        "id": "iFYmuFrG8sue"
      },
      "source": [
        "s.islower()"
      ],
      "execution_count": null,
      "outputs": []
    },
    {
      "cell_type": "code",
      "metadata": {
        "id": "ff-v0gDD81FA"
      },
      "source": [
        "s.isupper()"
      ],
      "execution_count": null,
      "outputs": []
    },
    {
      "cell_type": "code",
      "metadata": {
        "id": "6laeEa8f8-qo"
      },
      "source": [
        "s.isspace()"
      ],
      "execution_count": null,
      "outputs": []
    },
    {
      "cell_type": "code",
      "metadata": {
        "id": "u2sm23Gb9DdE"
      },
      "source": [
        "s.endswith('o')"
      ],
      "execution_count": null,
      "outputs": []
    },
    {
      "cell_type": "code",
      "metadata": {
        "id": "jSjvvtQu9JRt"
      },
      "source": [
        "s.endswith('n')"
      ],
      "execution_count": null,
      "outputs": []
    },
    {
      "cell_type": "code",
      "metadata": {
        "id": "qTWftnxq9TbQ"
      },
      "source": [
        "s.partition('!')"
      ],
      "execution_count": null,
      "outputs": []
    },
    {
      "cell_type": "markdown",
      "metadata": {
        "id": "CNo2JKGG9kYx"
      },
      "source": [
        "Comparando Strings"
      ]
    },
    {
      "cell_type": "code",
      "metadata": {
        "id": "PXjcj8gi9lns"
      },
      "source": [
        "print(\"Python\" == \"R\")"
      ],
      "execution_count": null,
      "outputs": []
    },
    {
      "cell_type": "code",
      "metadata": {
        "id": "osh4R_YW9uHP"
      },
      "source": [
        "print(\"Python\" == \"Python\")"
      ],
      "execution_count": null,
      "outputs": []
    },
    {
      "cell_type": "markdown",
      "metadata": {
        "id": "9gUn9FND95zQ"
      },
      "source": [
        "Fim\r\n",
        "\r\n",
        "Obrigado - Data Science Academy"
      ]
    }
  ]
}