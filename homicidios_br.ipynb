{
  "nbformat": 4,
  "nbformat_minor": 0,
  "metadata": {
    "colab": {
      "name": "homicidios_br.ipynb",
      "provenance": [],
      "authorship_tag": "ABX9TyPj5r7kve3Hxba3cVZdnkkl",
      "include_colab_link": true
    },
    "kernelspec": {
      "name": "python3",
      "display_name": "Python 3"
    }
  },
  "cells": [
    {
      "cell_type": "markdown",
      "metadata": {
        "id": "view-in-github",
        "colab_type": "text"
      },
      "source": [
        "<a href=\"https://colab.research.google.com/github/pcpiscator/DSAcademy/blob/main/homicidios_br.ipynb\" target=\"_parent\"><img src=\"https://colab.research.google.com/assets/colab-badge.svg\" alt=\"Open In Colab\"/></a>"
      ]
    },
    {
      "cell_type": "code",
      "metadata": {
        "id": "FTzYz4pLfpLh"
      },
      "source": [
        "import pandas as pd                  \r\n",
        "import numpy as np\r\n",
        "import seaborn as sns\r\n",
        "import matplotlib.pyplot as plt\r\n",
        "from datetime import datetime\r\n",
        "from dateutil.parser import parse \r\n",
        "\r\n",
        "%matplotlib inline"
      ],
      "execution_count": 17,
      "outputs": []
    },
    {
      "cell_type": "code",
      "metadata": {
        "colab": {
          "base_uri": "https://localhost:8080/",
          "height": 204
        },
        "id": "pN5c6xVOfGZQ",
        "outputId": "d97dfb3d-139d-45ac-e098-b162cab8911d"
      },
      "source": [
        "fonte = \"https://raw.githubusercontent.com/pcpiscator/DSAcademy/main/HomicidiosHomens.txt\"\r\n",
        "\r\n",
        "dados = pd.read_csv(fonte)\r\n",
        "dados.head()"
      ],
      "execution_count": 21,
      "outputs": [
        {
          "output_type": "execute_result",
          "data": {
            "text/html": [
              "<div>\n",
              "<style scoped>\n",
              "    .dataframe tbody tr th:only-of-type {\n",
              "        vertical-align: middle;\n",
              "    }\n",
              "\n",
              "    .dataframe tbody tr th {\n",
              "        vertical-align: top;\n",
              "    }\n",
              "\n",
              "    .dataframe thead th {\n",
              "        text-align: right;\n",
              "    }\n",
              "</style>\n",
              "<table border=\"1\" class=\"dataframe\">\n",
              "  <thead>\n",
              "    <tr style=\"text-align: right;\">\n",
              "      <th></th>\n",
              "      <th>Data</th>\n",
              "      <th>Total</th>\n",
              "      <th>1529</th>\n",
              "      <th>Bco</th>\n",
              "      <th>Neg</th>\n",
              "    </tr>\n",
              "  </thead>\n",
              "  <tbody>\n",
              "    <tr>\n",
              "      <th>0</th>\n",
              "      <td>1979</td>\n",
              "      <td>11217</td>\n",
              "      <td>5218</td>\n",
              "      <td>NaN</td>\n",
              "      <td>NaN</td>\n",
              "    </tr>\n",
              "    <tr>\n",
              "      <th>1</th>\n",
              "      <td>1980</td>\n",
              "      <td>13911</td>\n",
              "      <td>6759</td>\n",
              "      <td>NaN</td>\n",
              "      <td>NaN</td>\n",
              "    </tr>\n",
              "    <tr>\n",
              "      <th>2</th>\n",
              "      <td>1981</td>\n",
              "      <td>15216</td>\n",
              "      <td>7379</td>\n",
              "      <td>NaN</td>\n",
              "      <td>NaN</td>\n",
              "    </tr>\n",
              "    <tr>\n",
              "      <th>3</th>\n",
              "      <td>1982</td>\n",
              "      <td>15554</td>\n",
              "      <td>7267</td>\n",
              "      <td>NaN</td>\n",
              "      <td>NaN</td>\n",
              "    </tr>\n",
              "    <tr>\n",
              "      <th>4</th>\n",
              "      <td>1983</td>\n",
              "      <td>17410</td>\n",
              "      <td>8273</td>\n",
              "      <td>NaN</td>\n",
              "      <td>NaN</td>\n",
              "    </tr>\n",
              "  </tbody>\n",
              "</table>\n",
              "</div>"
            ],
            "text/plain": [
              "   Data  Total  1529  Bco  Neg\n",
              "0  1979  11217  5218  NaN  NaN\n",
              "1  1980  13911  6759  NaN  NaN\n",
              "2  1981  15216  7379  NaN  NaN\n",
              "3  1982  15554  7267  NaN  NaN\n",
              "4  1983  17410  8273  NaN  NaN"
            ]
          },
          "metadata": {
            "tags": []
          },
          "execution_count": 21
        }
      ]
    },
    {
      "cell_type": "code",
      "metadata": {
        "id": "h8VOX82En658"
      },
      "source": [
        "dados"
      ],
      "execution_count": null,
      "outputs": []
    },
    {
      "cell_type": "code",
      "metadata": {
        "id": "Lv45rhnDgsxD",
        "outputId": "9fbea6c0-10f0-4a1c-e72d-c35f7a1ef199",
        "colab": {
          "base_uri": "https://localhost:8080/"
        }
      },
      "source": [
        "dados[\"Data\"].unique()"
      ],
      "execution_count": 25,
      "outputs": [
        {
          "output_type": "execute_result",
          "data": {
            "text/plain": [
              "array([1979, 1980, 1981, 1982, 1983, 1984, 1985, 1986, 1987, 1988, 1989,\n",
              "       1990, 1991, 1992, 1993, 1994, 1995, 1996, 1997, 1998, 1999, 2000,\n",
              "       2001, 2002, 2003, 2004, 2005, 2006, 2007, 2008, 2009, 2010, 2011,\n",
              "       2012, 2013, 2014, 2015, 2016, 2017])"
            ]
          },
          "metadata": {
            "tags": []
          },
          "execution_count": 25
        }
      ]
    },
    {
      "cell_type": "code",
      "metadata": {
        "id": "LK4ssUqBheu3",
        "outputId": "581fec96-d0b9-4249-f973-9ca89f7fb1e6",
        "colab": {
          "base_uri": "https://localhost:8080/"
        }
      },
      "source": [
        "dados[\"Total\"].unique()"
      ],
      "execution_count": 26,
      "outputs": [
        {
          "output_type": "execute_result",
          "data": {
            "text/plain": [
              "array([11217, 13911, 15216, 15554, 17410, 19768, 19748, 20483, 23100,\n",
              "       23370, 28767, 32015, 30752, 28555, 30618, 32631, 37152, 38929,\n",
              "       40531, 41974, 42947, 45433, 48032, 49816, 51534, 48909, 48136,\n",
              "       49704, 48219, 50659, 52043, 53016, 52807, 57045, 57396, 60474,\n",
              "       59080, 62517, 65602])"
            ]
          },
          "metadata": {
            "tags": []
          },
          "execution_count": 26
        }
      ]
    },
    {
      "cell_type": "code",
      "metadata": {
        "colab": {
          "base_uri": "https://localhost:8080/"
        },
        "id": "ijDagkiNhrLZ",
        "outputId": "3f6972f5-584a-44b1-f0fc-1de1e9fbb827"
      },
      "source": [
        "dados[\"1529\"].unique()"
      ],
      "execution_count": 28,
      "outputs": [
        {
          "output_type": "execute_result",
          "data": {
            "text/plain": [
              "array([ 5218,  6759,  7379,  7267,  8273,  9737, 10069, 10528, 11788,\n",
              "       11784, 15049, 16742, 15622, 14200, 15417, 16994, 18924, 19767,\n",
              "       21098, 22524, 23072, 25105, 26361, 27757, 28877, 27457, 26793,\n",
              "       27251, 26489, 27880, 28267, 28562, 27930, 30609, 30689, 32436,\n",
              "       31264, 33590, 35783])"
            ]
          },
          "metadata": {
            "tags": []
          },
          "execution_count": 28
        }
      ]
    },
    {
      "cell_type": "code",
      "metadata": {
        "id": "-IenmAIvh7dO"
      },
      "source": [
        "#@title\n",
        "dados[\"Neg\"].unique"
      ],
      "execution_count": null,
      "outputs": []
    },
    {
      "cell_type": "code",
      "metadata": {
        "id": "wDF46HR9jueE"
      },
      "source": [
        "dados[\"Bco\"].unique"
      ],
      "execution_count": null,
      "outputs": []
    },
    {
      "cell_type": "code",
      "metadata": {
        "colab": {
          "base_uri": "https://localhost:8080/",
          "height": 282
        },
        "id": "XAkPNkc_h_Ge",
        "outputId": "f1292bcb-2081-42b0-89a1-6408da260503"
      },
      "source": [
        "dados[\"Bco\"].hist()"
      ],
      "execution_count": 32,
      "outputs": [
        {
          "output_type": "execute_result",
          "data": {
            "text/plain": [
              "<matplotlib.axes._subplots.AxesSubplot at 0x7f4b434e5208>"
            ]
          },
          "metadata": {
            "tags": []
          },
          "execution_count": 32
        },
        {
          "output_type": "display_data",
          "data": {
            "image/png": "[encoded data removed]",
            "text/plain": [
              "<Figure size 432x288 with 1 Axes>"
            ]
          },
          "metadata": {
            "tags": [],
            "needs_background": "light"
          }
        }
      ]
    },
    {
      "cell_type": "code",
      "metadata": {
        "id": "pEpng5ZwiLxZ"
      },
      "source": [
        ""
      ],
      "execution_count": null,
      "outputs": []
    },
    {
      "cell_type": "code",
      "metadata": {
        "colab": {
          "base_uri": "https://localhost:8080/",
          "height": 282
        },
        "id": "PqYwKyMeiMZO",
        "outputId": "ee096d5f-2d80-45af-b2a5-503c41f6d4c8"
      },
      "source": [
        "dados[\"Neg\"].hist()"
      ],
      "execution_count": 35,
      "outputs": [
        {
          "output_type": "execute_result",
          "data": {
            "text/plain": [
              "<matplotlib.axes._subplots.AxesSubplot at 0x7f4b42f1bda0>"
            ]
          },
          "metadata": {
            "tags": []
          },
          "execution_count": 35
        },
        {
          "output_type": "display_data",
          "data": {
            "image/png": "[encoded data removed]",
            "text/plain": [
              "<Figure size 432x288 with 1 Axes>"
            ]
          },
          "metadata": {
            "tags": [],
            "needs_background": "light"
          }
        }
      ]
    }
  ]
}