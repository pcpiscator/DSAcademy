{
  "nbformat": 4,
  "nbformat_minor": 0,
  "metadata": {
    "colab": {
      "name": "Variáveis e Operadores.ipynb",
      "provenance": [],
      "authorship_tag": "ABX9TyMRxkc+RuvIRwvJV/P+eaCd",
      "include_colab_link": true
    },
    "kernelspec": {
      "name": "python3",
      "display_name": "Python 3"
    }
  },
  "cells": [
    {
      "cell_type": "markdown",
      "metadata": {
        "id": "view-in-github",
        "colab_type": "text"
      },
      "source": [
        "<a href=\"https://colab.research.google.com/github/pcpiscator/DSAcademy/blob/main/Vari%C3%A1veis_e_Operadores.ipynb\" target=\"_parent\"><img src=\"https://colab.research.google.com/assets/colab-badge.svg\" alt=\"Open In Colab\"/></a>"
      ]
    },
    {
      "cell_type": "code",
      "metadata": {
        "id": "5PhXO1oYchzM"
      },
      "source": [
        "# Versão da Linguagem Python\r\n",
        "from platform import python_version\r\n",
        "print('Versão da Linguagem Python Usada Neste Jupyter Notebook:', python_version())"
      ],
      "execution_count": null,
      "outputs": []
    },
    {
      "cell_type": "markdown",
      "metadata": {
        "id": "JHV9ySg-fHt-"
      },
      "source": [
        "Variáveis e Operadores"
      ]
    },
    {
      "cell_type": "code",
      "metadata": {
        "id": "C456KlLqbmKn"
      },
      "source": [
        "# Atribuindo o valor 1 à variável var_teste\r\n",
        "var_teste = 1"
      ],
      "execution_count": 6,
      "outputs": []
    },
    {
      "cell_type": "code",
      "metadata": {
        "id": "kGfKicQ9eGO_"
      },
      "source": [
        "var_teste"
      ],
      "execution_count": null,
      "outputs": []
    },
    {
      "cell_type": "code",
      "metadata": {
        "id": "Q5lhHrkCc0Mz"
      },
      "source": [
        "# Imprimindo o valor da variável\r\n",
        "print(var_teste)"
      ],
      "execution_count": null,
      "outputs": []
    },
    {
      "cell_type": "code",
      "metadata": {
        "id": "1Yr37ucMdwaU"
      },
      "source": [
        "# Não podemos utilizar uma variável que não foi definida. Veja a mensagem de erro.\r\n",
        "my_var"
      ],
      "execution_count": null,
      "outputs": []
    },
    {
      "cell_type": "code",
      "metadata": {
        "id": "Izgj4KKNd0nk"
      },
      "source": [
        "var_teste = 2"
      ],
      "execution_count": 11,
      "outputs": []
    },
    {
      "cell_type": "code",
      "metadata": {
        "colab": {
          "base_uri": "https://localhost:8080/"
        },
        "id": "DJVrR3OoeTTO",
        "outputId": "b1775a30-1c55-42c9-f761-f0ab475cf727"
      },
      "source": [
        "var_teste"
      ],
      "execution_count": 12,
      "outputs": [
        {
          "output_type": "execute_result",
          "data": {
            "text/plain": [
              "2"
            ]
          },
          "metadata": {
            "tags": []
          },
          "execution_count": 12
        }
      ]
    },
    {
      "cell_type": "code",
      "metadata": {
        "id": "frb_8hJxehCb"
      },
      "source": [
        "type(var_teste)"
      ],
      "execution_count": null,
      "outputs": []
    },
    {
      "cell_type": "code",
      "metadata": {
        "id": "XbYm-o9Reqh-"
      },
      "source": [
        "var_teste = 9.5"
      ],
      "execution_count": null,
      "outputs": []
    },
    {
      "cell_type": "code",
      "metadata": {
        "id": "h-Lp0_CPexuA"
      },
      "source": [
        "type(var_teste)"
      ],
      "execution_count": null,
      "outputs": []
    },
    {
      "cell_type": "code",
      "metadata": {
        "id": "IjfhiAt-e0R6"
      },
      "source": [
        "x = 1"
      ],
      "execution_count": 15,
      "outputs": []
    },
    {
      "cell_type": "markdown",
      "metadata": {
        "id": "5twDLkNDfXQG"
      },
      "source": [
        ""
      ]
    },
    {
      "cell_type": "code",
      "metadata": {
        "id": "mZZszO5De6BE"
      },
      "source": [
        "x "
      ],
      "execution_count": null,
      "outputs": []
    },
    {
      "cell_type": "markdown",
      "metadata": {
        "id": "sKx7WEAdfOQA"
      },
      "source": [
        "Declaração Múltipla\r\n"
      ]
    },
    {
      "cell_type": "code",
      "metadata": {
        "id": "01oRthgtfYkM"
      },
      "source": [
        "pessoa1, pessoa2, pessoa3 = \"Maria\", \"José\", \"Tobias\""
      ],
      "execution_count": 17,
      "outputs": []
    },
    {
      "cell_type": "code",
      "metadata": {
        "id": "GzRhA9WZfeU6"
      },
      "source": [
        "pessoa1"
      ],
      "execution_count": null,
      "outputs": []
    },
    {
      "cell_type": "code",
      "metadata": {
        "id": "DmbAHBx9fmVE"
      },
      "source": [
        "pessoa2"
      ],
      "execution_count": null,
      "outputs": []
    },
    {
      "cell_type": "code",
      "metadata": {
        "id": "EiSJCC_zfmxl"
      },
      "source": [
        "pessoa3"
      ],
      "execution_count": null,
      "outputs": []
    },
    {
      "cell_type": "code",
      "metadata": {
        "id": "CjYcvPrYf1o5"
      },
      "source": [
        "fruta1 = fruta2 = fruta3 = \"Laranja\""
      ],
      "execution_count": 24,
      "outputs": []
    },
    {
      "cell_type": "code",
      "metadata": {
        "id": "6Xx0HYRtf4gU"
      },
      "source": [
        "fruta1"
      ],
      "execution_count": null,
      "outputs": []
    },
    {
      "cell_type": "code",
      "metadata": {
        "id": "gKysHQIlgJez"
      },
      "source": [
        "fruta2"
      ],
      "execution_count": null,
      "outputs": []
    },
    {
      "cell_type": "code",
      "metadata": {
        "id": "cp-vNY10gJ0k"
      },
      "source": [
        "fruta3"
      ],
      "execution_count": null,
      "outputs": []
    },
    {
      "cell_type": "code",
      "metadata": {
        "id": "BwvXc-bHiZ5F"
      },
      "source": [
        "# Fique atento!!! Python é sensível à caixa. Criamos a variável fruta2, mas não a variável Fruta2.\r\n",
        "# Letras maiúsculas e minúsculas tem diferença no nome da variável.\r\n",
        "Fruta2"
      ],
      "execution_count": null,
      "outputs": []
    },
    {
      "cell_type": "markdown",
      "metadata": {
        "id": "KYb-RIUNisYs"
      },
      "source": [
        "Pode-se usar letras, números e underline (mas não se pode começar com números)"
      ]
    },
    {
      "cell_type": "code",
      "metadata": {
        "id": "ZBkPK3vnioEx"
      },
      "source": [
        "x1 = 50"
      ],
      "execution_count": 30,
      "outputs": []
    },
    {
      "cell_type": "code",
      "metadata": {
        "id": "qIPhWQzni0Xl"
      },
      "source": [
        "x1 "
      ],
      "execution_count": null,
      "outputs": []
    },
    {
      "cell_type": "code",
      "metadata": {
        "id": "wLFYlQKRi3vZ"
      },
      "source": [
        "1x"
      ],
      "execution_count": null,
      "outputs": []
    },
    {
      "cell_type": "markdown",
      "metadata": {
        "id": "KuugiN54jFUv"
      },
      "source": [
        "Não se pode usar palavras reservadas como nome de variável:\r\n",
        "False,\r\n",
        "class,\r\n",
        "finally,\r\n",
        "is,\r\n",
        "return,\r\n",
        "None,\r\n",
        "continue,\r\n",
        "for,\r\n",
        "lambda,\r\n",
        "try,\r\n",
        "True,\r\n",
        "def,\r\n",
        "from,\r\n",
        "nonlocal,\r\n",
        "while,\r\n",
        "and,\r\n",
        "del,\r\n",
        "global,\r\n",
        "not,\r\n",
        "with,\r\n",
        "as,\r\n",
        "elif,\r\n",
        "if,\r\n",
        "or,\r\n",
        "yield,\r\n",
        "assert,\r\n",
        "else,\r\n",
        "import,\r\n",
        "pass,\r\n",
        "break,\r\n",
        "except,\r\n",
        "in,\r\n",
        "raise."
      ]
    },
    {
      "cell_type": "code",
      "metadata": {
        "id": "wRF_-TJkjZNs"
      },
      "source": [
        "# Não podemos usar palavras reservadas como nome de variável\r\n",
        "break = 1"
      ],
      "execution_count": null,
      "outputs": []
    },
    {
      "cell_type": "markdown",
      "metadata": {
        "id": "wtTTqNrX2xly"
      },
      "source": [
        "Variáveis atribuídas a outras variáveis e ordem dos operadores"
      ]
    },
    {
      "cell_type": "code",
      "metadata": {
        "id": "_9i7hn0o2zhf"
      },
      "source": [
        "largura = 2\r\n"
      ],
      "execution_count": 35,
      "outputs": []
    },
    {
      "cell_type": "code",
      "metadata": {
        "id": "ag_nzQLJ3NsI"
      },
      "source": [
        "altura = 4"
      ],
      "execution_count": 37,
      "outputs": []
    },
    {
      "cell_type": "code",
      "metadata": {
        "id": "atbN46vK3OO-"
      },
      "source": [
        "area = largura * altura"
      ],
      "execution_count": 38,
      "outputs": []
    },
    {
      "cell_type": "code",
      "metadata": {
        "colab": {
          "base_uri": "https://localhost:8080/"
        },
        "id": "w1JxoieU3Otv",
        "outputId": "ca3d15d0-28cf-4141-be34-3cd4688b4a23"
      },
      "source": [
        "area"
      ],
      "execution_count": 39,
      "outputs": [
        {
          "output_type": "execute_result",
          "data": {
            "text/plain": [
              "8"
            ]
          },
          "metadata": {
            "tags": []
          },
          "execution_count": 39
        }
      ]
    },
    {
      "cell_type": "code",
      "metadata": {
        "id": "HbINZq893zb4"
      },
      "source": [
        "perimetro = 2 * largura + 2 * altura"
      ],
      "execution_count": 40,
      "outputs": []
    },
    {
      "cell_type": "code",
      "metadata": {
        "id": "lHGZeVB_3052"
      },
      "source": [
        "perimetro"
      ],
      "execution_count": null,
      "outputs": []
    },
    {
      "cell_type": "code",
      "metadata": {
        "id": "gpH2jktD4G6n"
      },
      "source": [
        "# A ordem dos operadores é a mesma seguida na Matemática\r\n",
        "perimetro = 2 * (largura + 2)  * altura"
      ],
      "execution_count": 42,
      "outputs": []
    },
    {
      "cell_type": "code",
      "metadata": {
        "id": "F2O8iler4TwO"
      },
      "source": [
        "perimetro"
      ],
      "execution_count": null,
      "outputs": []
    },
    {
      "cell_type": "markdown",
      "metadata": {
        "id": "hqZ2oJ6Z4tsd"
      },
      "source": [
        "\r\n",
        "Operações com variáveis"
      ]
    },
    {
      "cell_type": "code",
      "metadata": {
        "id": "fHIAP96L4oZS"
      },
      "source": [
        "idade1 = 25\r\n"
      ],
      "execution_count": 44,
      "outputs": []
    },
    {
      "cell_type": "code",
      "metadata": {
        "id": "bVlzbkQ34xR3"
      },
      "source": [
        "idade2 = 35"
      ],
      "execution_count": 45,
      "outputs": []
    },
    {
      "cell_type": "code",
      "metadata": {
        "id": "st1eOKR541tJ"
      },
      "source": [
        "idade1 + idade2"
      ],
      "execution_count": null,
      "outputs": []
    },
    {
      "cell_type": "code",
      "metadata": {
        "id": "TRhMcMzk47zj"
      },
      "source": [
        "idade2 - idade1"
      ],
      "execution_count": null,
      "outputs": []
    },
    {
      "cell_type": "code",
      "metadata": {
        "id": "Ofw16P1M5DYv"
      },
      "source": [
        "idade2 * idade1"
      ],
      "execution_count": null,
      "outputs": []
    },
    {
      "cell_type": "code",
      "metadata": {
        "id": "lHIAamht5UNB"
      },
      "source": [
        "idade2 / idade1"
      ],
      "execution_count": null,
      "outputs": []
    },
    {
      "cell_type": "code",
      "metadata": {
        "id": "AU_UkO9U5bnB"
      },
      "source": [
        "idade2 % idade1"
      ],
      "execution_count": null,
      "outputs": []
    },
    {
      "cell_type": "markdown",
      "metadata": {
        "id": "KOgRhXMp5nV1"
      },
      "source": [
        "Concatenação de Variáveis"
      ]
    },
    {
      "cell_type": "code",
      "metadata": {
        "id": "RL60C8KB5mpP"
      },
      "source": [
        "nome = \"Chico\""
      ],
      "execution_count": 51,
      "outputs": []
    },
    {
      "cell_type": "code",
      "metadata": {
        "id": "5Js5xFAM6LJz"
      },
      "source": [
        "sobrenome = \"Bento\""
      ],
      "execution_count": 52,
      "outputs": []
    },
    {
      "cell_type": "code",
      "metadata": {
        "id": "gZokKtho6P37"
      },
      "source": [
        "NomeTodo= nome + \" \" + sobrenome"
      ],
      "execution_count": 53,
      "outputs": []
    },
    {
      "cell_type": "code",
      "metadata": {
        "colab": {
          "base_uri": "https://localhost:8080/",
          "height": 35
        },
        "id": "5838RbPt6Xwl",
        "outputId": "278c24a0-188e-4a6e-c0cb-0b9f95f85d60"
      },
      "source": [
        "NomeTodo"
      ],
      "execution_count": 54,
      "outputs": [
        {
          "output_type": "execute_result",
          "data": {
            "application/vnd.google.colaboratory.intrinsic+json": {
              "type": "string"
            },
            "text/plain": [
              "'Chico Bento'"
            ]
          },
          "metadata": {
            "tags": []
          },
          "execution_count": 54
        }
      ]
    },
    {
      "cell_type": "markdown",
      "metadata": {
        "id": "B9djNopf6jp6"
      },
      "source": [
        "Fim\r\n",
        "\r\n",
        "Obrigado - Data Science Academy "
      ]
    }
  ]
}